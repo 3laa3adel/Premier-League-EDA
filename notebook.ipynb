{
 "cells": [
  {
   "attachments": {},
   "cell_type": "markdown",
   "metadata": {},
   "source": [
    "# Premier League\n",
    "<p><img src=\"dataset/cov.png\" alt=\"Cover\" width=\"600px\"></p>\n",
    "The Premier League (legal name: The Football Association Premier League Limited) is the highest level of the English football league system. Contested by 20 clubs, it operates on a system of promotion and relegation with the English Football League (EFL). Seasons typically run from August to May with each team playing 38 matches (playing all other teams both home and away).Most games are played on Saturday and Sunday afternoons, with occasional weekday evening fixtures.<br>\n",
    "\n",
    "\n"
   ]
  },
  {
   "attachments": {},
   "cell_type": "markdown",
   "metadata": {},
   "source": [
    "### Importing Required Libraries"
   ]
  },
  {
   "cell_type": "code",
   "execution_count": 47,
   "metadata": {},
   "outputs": [],
   "source": [
    "import numpy as np\n",
    "import pandas as pd\n",
    "import matplotlib.pyplot as plt\n",
    "import seaborn as sns\n",
    "import re\n",
    "import nltk\n",
    "import string\n",
    "from nltk.corpus import *\n",
    "from wordcloud import *\n",
    "from sklearn import *\n",
    "from sklearn.model_selection import KFold, cross_val_score\n",
    "from sklearn.model_selection import train_test_split\n",
    "from sklearn.pipeline import Pipeline\n",
    "from sklearn.preprocessing import StandardScaler\n",
    "from sklearn.linear_model import LinearRegression\n",
    "from sklearn.decomposition import *\n",
    "from sklearn.tree import *\n",
    "from sklearn.feature_extraction.text import *\n",
    "from sklearn.linear_model import LogisticRegression\n",
    "import plotly.express as px\n",
    "from sklearn.ensemble import *\n",
    "from sklearn.metrics import *\n",
    "import warnings\n",
    "warnings.filterwarnings(\"ignore\")\n",
    "%matplotlib inline"
   ]
  },
  {
   "attachments": {},
   "cell_type": "markdown",
   "metadata": {},
   "source": [
    "### **Step1**: Acquire\n",
    "<pre><b> • Explore problem<b> </pre>\n",
    "<pre><b> • Identify data<b> </pre>\n",
    "<pre><b> • Import data<b> </pre>\n",
    "\n",
    "### **Data**\n",
    "#### <pre><b>• Import and read the data</pre>"
   ]
  },
  {
   "cell_type": "code",
   "execution_count": 48,
   "metadata": {},
   "outputs": [
    {
     "data": {
      "text/html": [
       "<div>\n",
       "<style scoped>\n",
       "    .dataframe tbody tr th:only-of-type {\n",
       "        vertical-align: middle;\n",
       "    }\n",
       "\n",
       "    .dataframe tbody tr th {\n",
       "        vertical-align: top;\n",
       "    }\n",
       "\n",
       "    .dataframe thead th {\n",
       "        text-align: right;\n",
       "    }\n",
       "</style>\n",
       "<table border=\"1\" class=\"dataframe\">\n",
       "  <thead>\n",
       "    <tr style=\"text-align: right;\">\n",
       "      <th></th>\n",
       "      <th>Name</th>\n",
       "      <th>Jersey Number</th>\n",
       "      <th>Club</th>\n",
       "      <th>Position</th>\n",
       "      <th>Nationality</th>\n",
       "      <th>Age</th>\n",
       "      <th>Appearances</th>\n",
       "      <th>Wins</th>\n",
       "      <th>Losses</th>\n",
       "      <th>Goals</th>\n",
       "      <th>...</th>\n",
       "      <th>Punches</th>\n",
       "      <th>High Claims</th>\n",
       "      <th>Catches</th>\n",
       "      <th>Sweeper clearances</th>\n",
       "      <th>Throw outs</th>\n",
       "      <th>Goal Kicks</th>\n",
       "      <th>Yellow cards</th>\n",
       "      <th>Red cards</th>\n",
       "      <th>Fouls</th>\n",
       "      <th>Offsides</th>\n",
       "    </tr>\n",
       "  </thead>\n",
       "  <tbody>\n",
       "    <tr>\n",
       "      <th>0</th>\n",
       "      <td>Bernd Leno</td>\n",
       "      <td>1.0</td>\n",
       "      <td>Arsenal</td>\n",
       "      <td>Goalkeeper</td>\n",
       "      <td>Germany</td>\n",
       "      <td>28.0</td>\n",
       "      <td>64</td>\n",
       "      <td>28</td>\n",
       "      <td>16</td>\n",
       "      <td>0</td>\n",
       "      <td>...</td>\n",
       "      <td>34.0</td>\n",
       "      <td>26.0</td>\n",
       "      <td>17.0</td>\n",
       "      <td>28.0</td>\n",
       "      <td>375.0</td>\n",
       "      <td>489.0</td>\n",
       "      <td>2</td>\n",
       "      <td>0</td>\n",
       "      <td>0</td>\n",
       "      <td>NaN</td>\n",
       "    </tr>\n",
       "    <tr>\n",
       "      <th>1</th>\n",
       "      <td>Matt Macey</td>\n",
       "      <td>33.0</td>\n",
       "      <td>Arsenal</td>\n",
       "      <td>Goalkeeper</td>\n",
       "      <td>England</td>\n",
       "      <td>26.0</td>\n",
       "      <td>0</td>\n",
       "      <td>0</td>\n",
       "      <td>0</td>\n",
       "      <td>0</td>\n",
       "      <td>...</td>\n",
       "      <td>0.0</td>\n",
       "      <td>0.0</td>\n",
       "      <td>0.0</td>\n",
       "      <td>0.0</td>\n",
       "      <td>0.0</td>\n",
       "      <td>0.0</td>\n",
       "      <td>0</td>\n",
       "      <td>0</td>\n",
       "      <td>0</td>\n",
       "      <td>NaN</td>\n",
       "    </tr>\n",
       "    <tr>\n",
       "      <th>2</th>\n",
       "      <td>Rúnar Alex Rúnarsson</td>\n",
       "      <td>13.0</td>\n",
       "      <td>Arsenal</td>\n",
       "      <td>Goalkeeper</td>\n",
       "      <td>Iceland</td>\n",
       "      <td>25.0</td>\n",
       "      <td>0</td>\n",
       "      <td>0</td>\n",
       "      <td>0</td>\n",
       "      <td>0</td>\n",
       "      <td>...</td>\n",
       "      <td>0.0</td>\n",
       "      <td>0.0</td>\n",
       "      <td>0.0</td>\n",
       "      <td>0.0</td>\n",
       "      <td>0.0</td>\n",
       "      <td>0.0</td>\n",
       "      <td>0</td>\n",
       "      <td>0</td>\n",
       "      <td>0</td>\n",
       "      <td>NaN</td>\n",
       "    </tr>\n",
       "    <tr>\n",
       "      <th>3</th>\n",
       "      <td>Héctor Bellerín</td>\n",
       "      <td>2.0</td>\n",
       "      <td>Arsenal</td>\n",
       "      <td>Defender</td>\n",
       "      <td>Spain</td>\n",
       "      <td>25.0</td>\n",
       "      <td>160</td>\n",
       "      <td>90</td>\n",
       "      <td>37</td>\n",
       "      <td>7</td>\n",
       "      <td>...</td>\n",
       "      <td>NaN</td>\n",
       "      <td>NaN</td>\n",
       "      <td>NaN</td>\n",
       "      <td>NaN</td>\n",
       "      <td>NaN</td>\n",
       "      <td>NaN</td>\n",
       "      <td>23</td>\n",
       "      <td>0</td>\n",
       "      <td>125</td>\n",
       "      <td>8.0</td>\n",
       "    </tr>\n",
       "    <tr>\n",
       "      <th>4</th>\n",
       "      <td>Kieran Tierney</td>\n",
       "      <td>3.0</td>\n",
       "      <td>Arsenal</td>\n",
       "      <td>Defender</td>\n",
       "      <td>Scotland</td>\n",
       "      <td>23.0</td>\n",
       "      <td>16</td>\n",
       "      <td>7</td>\n",
       "      <td>5</td>\n",
       "      <td>1</td>\n",
       "      <td>...</td>\n",
       "      <td>NaN</td>\n",
       "      <td>NaN</td>\n",
       "      <td>NaN</td>\n",
       "      <td>NaN</td>\n",
       "      <td>NaN</td>\n",
       "      <td>NaN</td>\n",
       "      <td>2</td>\n",
       "      <td>0</td>\n",
       "      <td>9</td>\n",
       "      <td>0.0</td>\n",
       "    </tr>\n",
       "  </tbody>\n",
       "</table>\n",
       "<p>5 rows × 59 columns</p>\n",
       "</div>"
      ],
      "text/plain": [
       "                   Name  Jersey Number     Club    Position Nationality   Age  \\\n",
       "0            Bernd Leno            1.0  Arsenal  Goalkeeper     Germany  28.0   \n",
       "1            Matt Macey           33.0  Arsenal  Goalkeeper     England  26.0   \n",
       "2  Rúnar Alex Rúnarsson           13.0  Arsenal  Goalkeeper     Iceland  25.0   \n",
       "3       Héctor Bellerín            2.0  Arsenal    Defender       Spain  25.0   \n",
       "4        Kieran Tierney            3.0  Arsenal    Defender    Scotland  23.0   \n",
       "\n",
       "   Appearances  Wins  Losses  Goals  ...  Punches  High Claims  Catches  \\\n",
       "0           64    28      16      0  ...     34.0         26.0     17.0   \n",
       "1            0     0       0      0  ...      0.0          0.0      0.0   \n",
       "2            0     0       0      0  ...      0.0          0.0      0.0   \n",
       "3          160    90      37      7  ...      NaN          NaN      NaN   \n",
       "4           16     7       5      1  ...      NaN          NaN      NaN   \n",
       "\n",
       "   Sweeper clearances  Throw outs  Goal Kicks  Yellow cards  Red cards Fouls  \\\n",
       "0                28.0       375.0       489.0             2          0     0   \n",
       "1                 0.0         0.0         0.0             0          0     0   \n",
       "2                 0.0         0.0         0.0             0          0     0   \n",
       "3                 NaN         NaN         NaN            23          0   125   \n",
       "4                 NaN         NaN         NaN             2          0     9   \n",
       "\n",
       "   Offsides  \n",
       "0       NaN  \n",
       "1       NaN  \n",
       "2       NaN  \n",
       "3       8.0  \n",
       "4       0.0  \n",
       "\n",
       "[5 rows x 59 columns]"
      ]
     },
     "execution_count": 48,
     "metadata": {},
     "output_type": "execute_result"
    }
   ],
   "source": [
    "df=pd.read_csv(\"dataset/football.csv\")\n",
    "df.head()"
   ]
  },
  {
   "cell_type": "code",
   "execution_count": 49,
   "metadata": {},
   "outputs": [
    {
     "data": {
      "text/plain": [
       "Name                        0\n",
       "Jersey Number               8\n",
       "Club                        0\n",
       "Position                    0\n",
       "Nationality                 1\n",
       "Age                         1\n",
       "Appearances                 0\n",
       "Wins                        0\n",
       "Losses                      0\n",
       "Goals                       0\n",
       "Goals per match           262\n",
       "Headed goals               69\n",
       "Goals with right foot      69\n",
       "Goals with left foot       69\n",
       "Penalties scored          262\n",
       "Freekicks scored          262\n",
       "Shots                     262\n",
       "Shots on target           262\n",
       "Shooting accuracy %       262\n",
       "Hit woodwork               69\n",
       "Big chances missed        262\n",
       "Clean sheets              309\n",
       "Goals conceded            309\n",
       "Tackles                    69\n",
       "Tackle success %          181\n",
       "Last man tackles          378\n",
       "Blocked shots              69\n",
       "Interceptions              69\n",
       "Clearances                 69\n",
       "Headed Clearance           69\n",
       "Clearances off line       378\n",
       "Recoveries                181\n",
       "Duels won                 181\n",
       "Duels lost                181\n",
       "Successful 50/50s         181\n",
       "Aerial battles won        181\n",
       "Aerial battles lost       181\n",
       "Own goals                 309\n",
       "Errors leading to goal    112\n",
       "Assists                     0\n",
       "Passes                      0\n",
       "Passes per match            0\n",
       "Big chances created        69\n",
       "Crosses                    69\n",
       "Cross accuracy %          181\n",
       "Through balls             181\n",
       "Accurate long balls       112\n",
       "Saves                     502\n",
       "Penalties saved           502\n",
       "Punches                   502\n",
       "High Claims               502\n",
       "Catches                   502\n",
       "Sweeper clearances        502\n",
       "Throw outs                502\n",
       "Goal Kicks                502\n",
       "Yellow cards                0\n",
       "Red cards                   0\n",
       "Fouls                       0\n",
       "Offsides                   69\n",
       "dtype: int64"
      ]
     },
     "execution_count": 49,
     "metadata": {},
     "output_type": "execute_result"
    }
   ],
   "source": [
    "df.isna().sum()"
   ]
  },
  {
   "cell_type": "code",
   "execution_count": 50,
   "metadata": {},
   "outputs": [
    {
     "data": {
      "text/plain": [
       "0"
      ]
     },
     "execution_count": 50,
     "metadata": {},
     "output_type": "execute_result"
    }
   ],
   "source": [
    "df.duplicated().sum()"
   ]
  },
  {
   "attachments": {},
   "cell_type": "markdown",
   "metadata": {},
   "source": [
    "### **Step2**: Prepare\n",
    "<pre><b> • Explore data<b> </pre>\n",
    "<pre><b> • Visualize ideas<b> </pre>\n",
    "<pre><b> • Cleaning data<b> </pre>\n"
   ]
  },
  {
   "cell_type": "code",
   "execution_count": 51,
   "metadata": {},
   "outputs": [],
   "source": [
    "df.drop(columns=['Jersey Number'],inplace=True)"
   ]
  },
  {
   "cell_type": "code",
   "execution_count": 52,
   "metadata": {},
   "outputs": [
    {
     "data": {
      "text/html": [
       "<div>\n",
       "<style scoped>\n",
       "    .dataframe tbody tr th:only-of-type {\n",
       "        vertical-align: middle;\n",
       "    }\n",
       "\n",
       "    .dataframe tbody tr th {\n",
       "        vertical-align: top;\n",
       "    }\n",
       "\n",
       "    .dataframe thead th {\n",
       "        text-align: right;\n",
       "    }\n",
       "</style>\n",
       "<table border=\"1\" class=\"dataframe\">\n",
       "  <thead>\n",
       "    <tr style=\"text-align: right;\">\n",
       "      <th></th>\n",
       "      <th>Name</th>\n",
       "      <th>Club</th>\n",
       "      <th>Position</th>\n",
       "      <th>Nationality</th>\n",
       "      <th>Age</th>\n",
       "      <th>Appearances</th>\n",
       "      <th>Wins</th>\n",
       "      <th>Losses</th>\n",
       "      <th>Goals</th>\n",
       "      <th>Goals per match</th>\n",
       "      <th>...</th>\n",
       "      <th>Punches</th>\n",
       "      <th>High Claims</th>\n",
       "      <th>Catches</th>\n",
       "      <th>Sweeper clearances</th>\n",
       "      <th>Throw outs</th>\n",
       "      <th>Goal Kicks</th>\n",
       "      <th>Yellow cards</th>\n",
       "      <th>Red cards</th>\n",
       "      <th>Fouls</th>\n",
       "      <th>Offsides</th>\n",
       "    </tr>\n",
       "  </thead>\n",
       "  <tbody>\n",
       "    <tr>\n",
       "      <th>241</th>\n",
       "      <td>Ezgjan Alioski</td>\n",
       "      <td>Leeds-United</td>\n",
       "      <td>Midfielder</td>\n",
       "      <td>NaN</td>\n",
       "      <td>NaN</td>\n",
       "      <td>1</td>\n",
       "      <td>1</td>\n",
       "      <td>0</td>\n",
       "      <td>0</td>\n",
       "      <td>1.0</td>\n",
       "      <td>...</td>\n",
       "      <td>NaN</td>\n",
       "      <td>NaN</td>\n",
       "      <td>NaN</td>\n",
       "      <td>NaN</td>\n",
       "      <td>NaN</td>\n",
       "      <td>NaN</td>\n",
       "      <td>0</td>\n",
       "      <td>0</td>\n",
       "      <td>1</td>\n",
       "      <td>0.0</td>\n",
       "    </tr>\n",
       "  </tbody>\n",
       "</table>\n",
       "<p>1 rows × 58 columns</p>\n",
       "</div>"
      ],
      "text/plain": [
       "               Name          Club    Position Nationality  Age  Appearances  \\\n",
       "241  Ezgjan Alioski  Leeds-United  Midfielder         NaN  NaN            1   \n",
       "\n",
       "     Wins  Losses  Goals  Goals per match  ...  Punches  High Claims  Catches  \\\n",
       "241     1       0      0              1.0  ...      NaN          NaN      NaN   \n",
       "\n",
       "     Sweeper clearances  Throw outs  Goal Kicks  Yellow cards Red cards  \\\n",
       "241                 NaN         NaN         NaN             0         0   \n",
       "\n",
       "     Fouls  Offsides  \n",
       "241      1       0.0  \n",
       "\n",
       "[1 rows x 58 columns]"
      ]
     },
     "execution_count": 52,
     "metadata": {},
     "output_type": "execute_result"
    }
   ],
   "source": [
    "df[df['Age'].isna()]"
   ]
  },
  {
   "cell_type": "code",
   "execution_count": 53,
   "metadata": {},
   "outputs": [],
   "source": [
    "df.drop(df[df['Age'].isna()].index[0],inplace=True)"
   ]
  },
  {
   "cell_type": "code",
   "execution_count": 54,
   "metadata": {},
   "outputs": [
    {
     "data": {
      "text/html": [
       "<div>\n",
       "<style scoped>\n",
       "    .dataframe tbody tr th:only-of-type {\n",
       "        vertical-align: middle;\n",
       "    }\n",
       "\n",
       "    .dataframe tbody tr th {\n",
       "        vertical-align: top;\n",
       "    }\n",
       "\n",
       "    .dataframe thead th {\n",
       "        text-align: right;\n",
       "    }\n",
       "</style>\n",
       "<table border=\"1\" class=\"dataframe\">\n",
       "  <thead>\n",
       "    <tr style=\"text-align: right;\">\n",
       "      <th></th>\n",
       "      <th>Name</th>\n",
       "      <th>Club</th>\n",
       "      <th>Position</th>\n",
       "      <th>Nationality</th>\n",
       "      <th>Age</th>\n",
       "      <th>Appearances</th>\n",
       "      <th>Wins</th>\n",
       "      <th>Losses</th>\n",
       "      <th>Goals</th>\n",
       "      <th>Goals per match</th>\n",
       "      <th>...</th>\n",
       "      <th>Punches</th>\n",
       "      <th>High Claims</th>\n",
       "      <th>Catches</th>\n",
       "      <th>Sweeper clearances</th>\n",
       "      <th>Throw outs</th>\n",
       "      <th>Goal Kicks</th>\n",
       "      <th>Yellow cards</th>\n",
       "      <th>Red cards</th>\n",
       "      <th>Fouls</th>\n",
       "      <th>Offsides</th>\n",
       "    </tr>\n",
       "  </thead>\n",
       "  <tbody>\n",
       "  </tbody>\n",
       "</table>\n",
       "<p>0 rows × 58 columns</p>\n",
       "</div>"
      ],
      "text/plain": [
       "Empty DataFrame\n",
       "Columns: [Name, Club, Position, Nationality, Age, Appearances, Wins, Losses, Goals, Goals per match, Headed goals, Goals with right foot, Goals with left foot, Penalties scored, Freekicks scored, Shots, Shots on target, Shooting accuracy %, Hit woodwork, Big chances missed, Clean sheets, Goals conceded, Tackles, Tackle success %, Last man tackles, Blocked shots, Interceptions, Clearances, Headed Clearance, Clearances off line, Recoveries, Duels won, Duels lost, Successful 50/50s, Aerial battles won, Aerial battles lost, Own goals, Errors leading to goal, Assists, Passes, Passes per match, Big chances created, Crosses, Cross accuracy %, Through balls, Accurate long balls, Saves, Penalties saved, Punches, High Claims, Catches, Sweeper clearances, Throw outs, Goal Kicks, Yellow cards, Red cards, Fouls, Offsides]\n",
       "Index: []\n",
       "\n",
       "[0 rows x 58 columns]"
      ]
     },
     "execution_count": 54,
     "metadata": {},
     "output_type": "execute_result"
    }
   ],
   "source": [
    "df[df['Age'].isna()]"
   ]
  },
  {
   "cell_type": "code",
   "execution_count": 55,
   "metadata": {},
   "outputs": [
    {
     "data": {
      "text/plain": [
       "Name                      570\n",
       "Club                       20\n",
       "Position                    4\n",
       "Nationality                57\n",
       "Age                        22\n",
       "Appearances               198\n",
       "Wins                      119\n",
       "Losses                    101\n",
       "Goals                      55\n",
       "Goals per match            71\n",
       "Headed goals               20\n",
       "Goals with right foot      43\n",
       "Goals with left foot       29\n",
       "Penalties scored           16\n",
       "Freekicks scored            8\n",
       "Shots                     153\n",
       "Shots on target           105\n",
       "Shooting accuracy %        50\n",
       "Hit woodwork               23\n",
       "Big chances missed         48\n",
       "Clean sheets               65\n",
       "Goals conceded            120\n",
       "Tackles                   213\n",
       "Tackle success %           54\n",
       "Last man tackles           12\n",
       "Blocked shots              96\n",
       "Interceptions             179\n",
       "Clearances                216\n",
       "Headed Clearance          166\n",
       "Clearances off line         9\n",
       "Recoveries                253\n",
       "Duels won                 266\n",
       "Duels lost                257\n",
       "Successful 50/50s         137\n",
       "Aerial battles won        167\n",
       "Aerial battles lost       179\n",
       "Own goals                   7\n",
       "Errors leading to goal     16\n",
       "Assists                    43\n",
       "Passes                    448\n",
       "Passes per match          443\n",
       "Big chances created        54\n",
       "Crosses                   196\n",
       "Cross accuracy %           44\n",
       "Through balls              54\n",
       "Accurate long balls       232\n",
       "Saves                      44\n",
       "Penalties saved             8\n",
       "Punches                    32\n",
       "High Claims                36\n",
       "Catches                    28\n",
       "Sweeper clearances         35\n",
       "Throw outs                 44\n",
       "Goal Kicks                 45\n",
       "Yellow cards               49\n",
       "Red cards                   6\n",
       "Fouls                     173\n",
       "Offsides                   67\n",
       "dtype: int64"
      ]
     },
     "execution_count": 55,
     "metadata": {},
     "output_type": "execute_result"
    }
   ],
   "source": [
    "df.nunique()"
   ]
  },
  {
   "cell_type": "code",
   "execution_count": 56,
   "metadata": {},
   "outputs": [
    {
     "data": {
      "text/plain": [
       "Index(['Name', 'Club', 'Position', 'Nationality', 'Age', 'Appearances', 'Wins',\n",
       "       'Losses', 'Goals', 'Goals per match', 'Headed goals',\n",
       "       'Goals with right foot', 'Goals with left foot', 'Penalties scored',\n",
       "       'Freekicks scored', 'Shots', 'Shots on target', 'Shooting accuracy %',\n",
       "       'Hit woodwork', 'Big chances missed', 'Clean sheets', 'Goals conceded',\n",
       "       'Tackles', 'Tackle success %', 'Last man tackles', 'Blocked shots',\n",
       "       'Interceptions', 'Clearances', 'Headed Clearance',\n",
       "       'Clearances off line', 'Recoveries', 'Duels won', 'Duels lost',\n",
       "       'Successful 50/50s', 'Aerial battles won', 'Aerial battles lost',\n",
       "       'Own goals', 'Errors leading to goal', 'Assists', 'Passes',\n",
       "       'Passes per match', 'Big chances created', 'Crosses',\n",
       "       'Cross accuracy %', 'Through balls', 'Accurate long balls', 'Saves',\n",
       "       'Penalties saved', 'Punches', 'High Claims', 'Catches',\n",
       "       'Sweeper clearances', 'Throw outs', 'Goal Kicks', 'Yellow cards',\n",
       "       'Red cards', 'Fouls', 'Offsides'],\n",
       "      dtype='object')"
      ]
     },
     "execution_count": 56,
     "metadata": {},
     "output_type": "execute_result"
    }
   ],
   "source": [
    "df.columns"
   ]
  },
  {
   "cell_type": "code",
   "execution_count": 57,
   "metadata": {},
   "outputs": [],
   "source": [
    "df['Shooting accuracy %']=df['Shooting accuracy %'].apply(lambda x:float(str(x).split('%')[0])/100)\n",
    "df['Tackle success %']=df['Tackle success %'].apply(lambda x:float(str(x).split('%')[0])/100)\n",
    "df['Cross accuracy %']=df['Cross accuracy %'].apply(lambda x:float(str(x).split('%')[0])/100)"
   ]
  },
  {
   "cell_type": "code",
   "execution_count": 58,
   "metadata": {},
   "outputs": [],
   "source": [
    "df.fillna(0,inplace=True)"
   ]
  },
  {
   "cell_type": "code",
   "execution_count": 59,
   "metadata": {},
   "outputs": [
    {
     "data": {
      "text/plain": [
       "Name                      0\n",
       "Club                      0\n",
       "Position                  0\n",
       "Nationality               0\n",
       "Age                       0\n",
       "Appearances               0\n",
       "Wins                      0\n",
       "Losses                    0\n",
       "Goals                     0\n",
       "Goals per match           0\n",
       "Headed goals              0\n",
       "Goals with right foot     0\n",
       "Goals with left foot      0\n",
       "Penalties scored          0\n",
       "Freekicks scored          0\n",
       "Shots                     0\n",
       "Shots on target           0\n",
       "Shooting accuracy %       0\n",
       "Hit woodwork              0\n",
       "Big chances missed        0\n",
       "Clean sheets              0\n",
       "Goals conceded            0\n",
       "Tackles                   0\n",
       "Tackle success %          0\n",
       "Last man tackles          0\n",
       "Blocked shots             0\n",
       "Interceptions             0\n",
       "Clearances                0\n",
       "Headed Clearance          0\n",
       "Clearances off line       0\n",
       "Recoveries                0\n",
       "Duels won                 0\n",
       "Duels lost                0\n",
       "Successful 50/50s         0\n",
       "Aerial battles won        0\n",
       "Aerial battles lost       0\n",
       "Own goals                 0\n",
       "Errors leading to goal    0\n",
       "Assists                   0\n",
       "Passes                    0\n",
       "Passes per match          0\n",
       "Big chances created       0\n",
       "Crosses                   0\n",
       "Cross accuracy %          0\n",
       "Through balls             0\n",
       "Accurate long balls       0\n",
       "Saves                     0\n",
       "Penalties saved           0\n",
       "Punches                   0\n",
       "High Claims               0\n",
       "Catches                   0\n",
       "Sweeper clearances        0\n",
       "Throw outs                0\n",
       "Goal Kicks                0\n",
       "Yellow cards              0\n",
       "Red cards                 0\n",
       "Fouls                     0\n",
       "Offsides                  0\n",
       "dtype: int64"
      ]
     },
     "execution_count": 59,
     "metadata": {},
     "output_type": "execute_result"
    }
   ],
   "source": [
    "df.isna().sum()"
   ]
  },
  {
   "cell_type": "code",
   "execution_count": 60,
   "metadata": {},
   "outputs": [
    {
     "name": "stdout",
     "output_type": "stream",
     "text": [
      "<class 'pandas.core.frame.DataFrame'>\n",
      "Int64Index: 570 entries, 0 to 570\n",
      "Data columns (total 58 columns):\n",
      " #   Column                  Non-Null Count  Dtype  \n",
      "---  ------                  --------------  -----  \n",
      " 0   Name                    570 non-null    object \n",
      " 1   Club                    570 non-null    object \n",
      " 2   Position                570 non-null    object \n",
      " 3   Nationality             570 non-null    object \n",
      " 4   Age                     570 non-null    float64\n",
      " 5   Appearances             570 non-null    int64  \n",
      " 6   Wins                    570 non-null    int64  \n",
      " 7   Losses                  570 non-null    int64  \n",
      " 8   Goals                   570 non-null    int64  \n",
      " 9   Goals per match         570 non-null    float64\n",
      " 10  Headed goals            570 non-null    float64\n",
      " 11  Goals with right foot   570 non-null    float64\n",
      " 12  Goals with left foot    570 non-null    float64\n",
      " 13  Penalties scored        570 non-null    float64\n",
      " 14  Freekicks scored        570 non-null    float64\n",
      " 15  Shots                   570 non-null    float64\n",
      " 16  Shots on target         570 non-null    float64\n",
      " 17  Shooting accuracy %     570 non-null    float64\n",
      " 18  Hit woodwork            570 non-null    float64\n",
      " 19  Big chances missed      570 non-null    float64\n",
      " 20  Clean sheets            570 non-null    float64\n",
      " 21  Goals conceded          570 non-null    float64\n",
      " 22  Tackles                 570 non-null    float64\n",
      " 23  Tackle success %        570 non-null    float64\n",
      " 24  Last man tackles        570 non-null    float64\n",
      " 25  Blocked shots           570 non-null    float64\n",
      " 26  Interceptions           570 non-null    float64\n",
      " 27  Clearances              570 non-null    float64\n",
      " 28  Headed Clearance        570 non-null    float64\n",
      " 29  Clearances off line     570 non-null    float64\n",
      " 30  Recoveries              570 non-null    float64\n",
      " 31  Duels won               570 non-null    float64\n",
      " 32  Duels lost              570 non-null    float64\n",
      " 33  Successful 50/50s       570 non-null    float64\n",
      " 34  Aerial battles won      570 non-null    float64\n",
      " 35  Aerial battles lost     570 non-null    float64\n",
      " 36  Own goals               570 non-null    float64\n",
      " 37  Errors leading to goal  570 non-null    float64\n",
      " 38  Assists                 570 non-null    int64  \n",
      " 39  Passes                  570 non-null    int64  \n",
      " 40  Passes per match        570 non-null    float64\n",
      " 41  Big chances created     570 non-null    float64\n",
      " 42  Crosses                 570 non-null    float64\n",
      " 43  Cross accuracy %        570 non-null    float64\n",
      " 44  Through balls           570 non-null    float64\n",
      " 45  Accurate long balls     570 non-null    float64\n",
      " 46  Saves                   570 non-null    float64\n",
      " 47  Penalties saved         570 non-null    float64\n",
      " 48  Punches                 570 non-null    float64\n",
      " 49  High Claims             570 non-null    float64\n",
      " 50  Catches                 570 non-null    float64\n",
      " 51  Sweeper clearances      570 non-null    float64\n",
      " 52  Throw outs              570 non-null    float64\n",
      " 53  Goal Kicks              570 non-null    float64\n",
      " 54  Yellow cards            570 non-null    int64  \n",
      " 55  Red cards               570 non-null    int64  \n",
      " 56  Fouls                   570 non-null    int64  \n",
      " 57  Offsides                570 non-null    float64\n",
      "dtypes: float64(45), int64(9), object(4)\n",
      "memory usage: 262.7+ KB\n"
     ]
    }
   ],
   "source": [
    "df.info()"
   ]
  },
  {
   "cell_type": "code",
   "execution_count": 61,
   "metadata": {},
   "outputs": [
    {
     "data": {
      "text/plain": [
       "(570, 58)"
      ]
     },
     "execution_count": 61,
     "metadata": {},
     "output_type": "execute_result"
    }
   ],
   "source": [
    "df.shape"
   ]
  },
  {
   "attachments": {},
   "cell_type": "markdown",
   "metadata": {},
   "source": [
    "### **Step3**: Report\n",
    "<pre><b> • Present findings<b> </pre>\n",
    "<pre><b> • Visualize results<b> </pre>\n",
    "<pre><b> • Credibility counts<b> </pre>"
   ]
  },
  {
   "cell_type": "code",
   "execution_count": 62,
   "metadata": {},
   "outputs": [
    {
     "data": {
      "text/html": [
       "<div>\n",
       "<style scoped>\n",
       "    .dataframe tbody tr th:only-of-type {\n",
       "        vertical-align: middle;\n",
       "    }\n",
       "\n",
       "    .dataframe tbody tr th {\n",
       "        vertical-align: top;\n",
       "    }\n",
       "\n",
       "    .dataframe thead th {\n",
       "        text-align: right;\n",
       "    }\n",
       "</style>\n",
       "<table border=\"1\" class=\"dataframe\">\n",
       "  <thead>\n",
       "    <tr style=\"text-align: right;\">\n",
       "      <th></th>\n",
       "      <th>Name</th>\n",
       "      <th>Club</th>\n",
       "      <th>Position</th>\n",
       "      <th>Nationality</th>\n",
       "      <th>Age</th>\n",
       "      <th>Appearances</th>\n",
       "      <th>Wins</th>\n",
       "      <th>Losses</th>\n",
       "      <th>Goals</th>\n",
       "      <th>Goals per match</th>\n",
       "      <th>...</th>\n",
       "      <th>Punches</th>\n",
       "      <th>High Claims</th>\n",
       "      <th>Catches</th>\n",
       "      <th>Sweeper clearances</th>\n",
       "      <th>Throw outs</th>\n",
       "      <th>Goal Kicks</th>\n",
       "      <th>Yellow cards</th>\n",
       "      <th>Red cards</th>\n",
       "      <th>Fouls</th>\n",
       "      <th>Offsides</th>\n",
       "    </tr>\n",
       "  </thead>\n",
       "  <tbody>\n",
       "    <tr>\n",
       "      <th>0</th>\n",
       "      <td>Bernd Leno</td>\n",
       "      <td>Arsenal</td>\n",
       "      <td>Goalkeeper</td>\n",
       "      <td>Germany</td>\n",
       "      <td>28.0</td>\n",
       "      <td>64</td>\n",
       "      <td>28</td>\n",
       "      <td>16</td>\n",
       "      <td>0</td>\n",
       "      <td>0.0</td>\n",
       "      <td>...</td>\n",
       "      <td>34.0</td>\n",
       "      <td>26.0</td>\n",
       "      <td>17.0</td>\n",
       "      <td>28.0</td>\n",
       "      <td>375.0</td>\n",
       "      <td>489.0</td>\n",
       "      <td>2</td>\n",
       "      <td>0</td>\n",
       "      <td>0</td>\n",
       "      <td>0.0</td>\n",
       "    </tr>\n",
       "    <tr>\n",
       "      <th>1</th>\n",
       "      <td>Matt Macey</td>\n",
       "      <td>Arsenal</td>\n",
       "      <td>Goalkeeper</td>\n",
       "      <td>England</td>\n",
       "      <td>26.0</td>\n",
       "      <td>0</td>\n",
       "      <td>0</td>\n",
       "      <td>0</td>\n",
       "      <td>0</td>\n",
       "      <td>0.0</td>\n",
       "      <td>...</td>\n",
       "      <td>0.0</td>\n",
       "      <td>0.0</td>\n",
       "      <td>0.0</td>\n",
       "      <td>0.0</td>\n",
       "      <td>0.0</td>\n",
       "      <td>0.0</td>\n",
       "      <td>0</td>\n",
       "      <td>0</td>\n",
       "      <td>0</td>\n",
       "      <td>0.0</td>\n",
       "    </tr>\n",
       "    <tr>\n",
       "      <th>2</th>\n",
       "      <td>Rúnar Alex Rúnarsson</td>\n",
       "      <td>Arsenal</td>\n",
       "      <td>Goalkeeper</td>\n",
       "      <td>Iceland</td>\n",
       "      <td>25.0</td>\n",
       "      <td>0</td>\n",
       "      <td>0</td>\n",
       "      <td>0</td>\n",
       "      <td>0</td>\n",
       "      <td>0.0</td>\n",
       "      <td>...</td>\n",
       "      <td>0.0</td>\n",
       "      <td>0.0</td>\n",
       "      <td>0.0</td>\n",
       "      <td>0.0</td>\n",
       "      <td>0.0</td>\n",
       "      <td>0.0</td>\n",
       "      <td>0</td>\n",
       "      <td>0</td>\n",
       "      <td>0</td>\n",
       "      <td>0.0</td>\n",
       "    </tr>\n",
       "    <tr>\n",
       "      <th>3</th>\n",
       "      <td>Héctor Bellerín</td>\n",
       "      <td>Arsenal</td>\n",
       "      <td>Defender</td>\n",
       "      <td>Spain</td>\n",
       "      <td>25.0</td>\n",
       "      <td>160</td>\n",
       "      <td>90</td>\n",
       "      <td>37</td>\n",
       "      <td>7</td>\n",
       "      <td>0.0</td>\n",
       "      <td>...</td>\n",
       "      <td>0.0</td>\n",
       "      <td>0.0</td>\n",
       "      <td>0.0</td>\n",
       "      <td>0.0</td>\n",
       "      <td>0.0</td>\n",
       "      <td>0.0</td>\n",
       "      <td>23</td>\n",
       "      <td>0</td>\n",
       "      <td>125</td>\n",
       "      <td>8.0</td>\n",
       "    </tr>\n",
       "    <tr>\n",
       "      <th>4</th>\n",
       "      <td>Kieran Tierney</td>\n",
       "      <td>Arsenal</td>\n",
       "      <td>Defender</td>\n",
       "      <td>Scotland</td>\n",
       "      <td>23.0</td>\n",
       "      <td>16</td>\n",
       "      <td>7</td>\n",
       "      <td>5</td>\n",
       "      <td>1</td>\n",
       "      <td>0.0</td>\n",
       "      <td>...</td>\n",
       "      <td>0.0</td>\n",
       "      <td>0.0</td>\n",
       "      <td>0.0</td>\n",
       "      <td>0.0</td>\n",
       "      <td>0.0</td>\n",
       "      <td>0.0</td>\n",
       "      <td>2</td>\n",
       "      <td>0</td>\n",
       "      <td>9</td>\n",
       "      <td>0.0</td>\n",
       "    </tr>\n",
       "  </tbody>\n",
       "</table>\n",
       "<p>5 rows × 58 columns</p>\n",
       "</div>"
      ],
      "text/plain": [
       "                   Name     Club    Position Nationality   Age  Appearances  \\\n",
       "0            Bernd Leno  Arsenal  Goalkeeper     Germany  28.0           64   \n",
       "1            Matt Macey  Arsenal  Goalkeeper     England  26.0            0   \n",
       "2  Rúnar Alex Rúnarsson  Arsenal  Goalkeeper     Iceland  25.0            0   \n",
       "3       Héctor Bellerín  Arsenal    Defender       Spain  25.0          160   \n",
       "4        Kieran Tierney  Arsenal    Defender    Scotland  23.0           16   \n",
       "\n",
       "   Wins  Losses  Goals  Goals per match  ...  Punches  High Claims  Catches  \\\n",
       "0    28      16      0              0.0  ...     34.0         26.0     17.0   \n",
       "1     0       0      0              0.0  ...      0.0          0.0      0.0   \n",
       "2     0       0      0              0.0  ...      0.0          0.0      0.0   \n",
       "3    90      37      7              0.0  ...      0.0          0.0      0.0   \n",
       "4     7       5      1              0.0  ...      0.0          0.0      0.0   \n",
       "\n",
       "   Sweeper clearances  Throw outs  Goal Kicks  Yellow cards  Red cards  Fouls  \\\n",
       "0                28.0       375.0       489.0             2          0      0   \n",
       "1                 0.0         0.0         0.0             0          0      0   \n",
       "2                 0.0         0.0         0.0             0          0      0   \n",
       "3                 0.0         0.0         0.0            23          0    125   \n",
       "4                 0.0         0.0         0.0             2          0      9   \n",
       "\n",
       "   Offsides  \n",
       "0       0.0  \n",
       "1       0.0  \n",
       "2       0.0  \n",
       "3       8.0  \n",
       "4       0.0  \n",
       "\n",
       "[5 rows x 58 columns]"
      ]
     },
     "execution_count": 62,
     "metadata": {},
     "output_type": "execute_result"
    }
   ],
   "source": [
    "df.head()"
   ]
  },
  {
   "cell_type": "code",
   "execution_count": 63,
   "metadata": {},
   "outputs": [
    {
     "data": {
      "text/html": [
       "<div>\n",
       "<style scoped>\n",
       "    .dataframe tbody tr th:only-of-type {\n",
       "        vertical-align: middle;\n",
       "    }\n",
       "\n",
       "    .dataframe tbody tr th {\n",
       "        vertical-align: top;\n",
       "    }\n",
       "\n",
       "    .dataframe thead th {\n",
       "        text-align: right;\n",
       "    }\n",
       "</style>\n",
       "<table border=\"1\" class=\"dataframe\">\n",
       "  <thead>\n",
       "    <tr style=\"text-align: right;\">\n",
       "      <th></th>\n",
       "      <th>Name</th>\n",
       "      <th>Club</th>\n",
       "      <th>Position</th>\n",
       "      <th>Nationality</th>\n",
       "      <th>Age</th>\n",
       "      <th>Appearances</th>\n",
       "      <th>Wins</th>\n",
       "      <th>Losses</th>\n",
       "      <th>Goals</th>\n",
       "      <th>Goals per match</th>\n",
       "      <th>...</th>\n",
       "      <th>Punches</th>\n",
       "      <th>High Claims</th>\n",
       "      <th>Catches</th>\n",
       "      <th>Sweeper clearances</th>\n",
       "      <th>Throw outs</th>\n",
       "      <th>Goal Kicks</th>\n",
       "      <th>Yellow cards</th>\n",
       "      <th>Red cards</th>\n",
       "      <th>Fouls</th>\n",
       "      <th>Offsides</th>\n",
       "    </tr>\n",
       "  </thead>\n",
       "  <tbody>\n",
       "    <tr>\n",
       "      <th>0</th>\n",
       "      <td>Bernd Leno</td>\n",
       "      <td>Arsenal</td>\n",
       "      <td>Goalkeeper</td>\n",
       "      <td>Germany</td>\n",
       "      <td>28.0</td>\n",
       "      <td>64</td>\n",
       "      <td>28</td>\n",
       "      <td>16</td>\n",
       "      <td>0</td>\n",
       "      <td>0.0</td>\n",
       "      <td>...</td>\n",
       "      <td>34.0</td>\n",
       "      <td>26.0</td>\n",
       "      <td>17.0</td>\n",
       "      <td>28.0</td>\n",
       "      <td>375.0</td>\n",
       "      <td>489.0</td>\n",
       "      <td>2</td>\n",
       "      <td>0</td>\n",
       "      <td>0</td>\n",
       "      <td>0.0</td>\n",
       "    </tr>\n",
       "    <tr>\n",
       "      <th>1</th>\n",
       "      <td>Matt Macey</td>\n",
       "      <td>Arsenal</td>\n",
       "      <td>Goalkeeper</td>\n",
       "      <td>England</td>\n",
       "      <td>26.0</td>\n",
       "      <td>0</td>\n",
       "      <td>0</td>\n",
       "      <td>0</td>\n",
       "      <td>0</td>\n",
       "      <td>0.0</td>\n",
       "      <td>...</td>\n",
       "      <td>0.0</td>\n",
       "      <td>0.0</td>\n",
       "      <td>0.0</td>\n",
       "      <td>0.0</td>\n",
       "      <td>0.0</td>\n",
       "      <td>0.0</td>\n",
       "      <td>0</td>\n",
       "      <td>0</td>\n",
       "      <td>0</td>\n",
       "      <td>0.0</td>\n",
       "    </tr>\n",
       "    <tr>\n",
       "      <th>2</th>\n",
       "      <td>Rúnar Alex Rúnarsson</td>\n",
       "      <td>Arsenal</td>\n",
       "      <td>Goalkeeper</td>\n",
       "      <td>Iceland</td>\n",
       "      <td>25.0</td>\n",
       "      <td>0</td>\n",
       "      <td>0</td>\n",
       "      <td>0</td>\n",
       "      <td>0</td>\n",
       "      <td>0.0</td>\n",
       "      <td>...</td>\n",
       "      <td>0.0</td>\n",
       "      <td>0.0</td>\n",
       "      <td>0.0</td>\n",
       "      <td>0.0</td>\n",
       "      <td>0.0</td>\n",
       "      <td>0.0</td>\n",
       "      <td>0</td>\n",
       "      <td>0</td>\n",
       "      <td>0</td>\n",
       "      <td>0.0</td>\n",
       "    </tr>\n",
       "    <tr>\n",
       "      <th>3</th>\n",
       "      <td>Héctor Bellerín</td>\n",
       "      <td>Arsenal</td>\n",
       "      <td>Defender</td>\n",
       "      <td>Spain</td>\n",
       "      <td>25.0</td>\n",
       "      <td>160</td>\n",
       "      <td>90</td>\n",
       "      <td>37</td>\n",
       "      <td>7</td>\n",
       "      <td>0.0</td>\n",
       "      <td>...</td>\n",
       "      <td>0.0</td>\n",
       "      <td>0.0</td>\n",
       "      <td>0.0</td>\n",
       "      <td>0.0</td>\n",
       "      <td>0.0</td>\n",
       "      <td>0.0</td>\n",
       "      <td>23</td>\n",
       "      <td>0</td>\n",
       "      <td>125</td>\n",
       "      <td>8.0</td>\n",
       "    </tr>\n",
       "    <tr>\n",
       "      <th>4</th>\n",
       "      <td>Kieran Tierney</td>\n",
       "      <td>Arsenal</td>\n",
       "      <td>Defender</td>\n",
       "      <td>Scotland</td>\n",
       "      <td>23.0</td>\n",
       "      <td>16</td>\n",
       "      <td>7</td>\n",
       "      <td>5</td>\n",
       "      <td>1</td>\n",
       "      <td>0.0</td>\n",
       "      <td>...</td>\n",
       "      <td>0.0</td>\n",
       "      <td>0.0</td>\n",
       "      <td>0.0</td>\n",
       "      <td>0.0</td>\n",
       "      <td>0.0</td>\n",
       "      <td>0.0</td>\n",
       "      <td>2</td>\n",
       "      <td>0</td>\n",
       "      <td>9</td>\n",
       "      <td>0.0</td>\n",
       "    </tr>\n",
       "  </tbody>\n",
       "</table>\n",
       "<p>5 rows × 58 columns</p>\n",
       "</div>"
      ],
      "text/plain": [
       "                   Name     Club    Position Nationality   Age  Appearances  \\\n",
       "0            Bernd Leno  Arsenal  Goalkeeper     Germany  28.0           64   \n",
       "1            Matt Macey  Arsenal  Goalkeeper     England  26.0            0   \n",
       "2  Rúnar Alex Rúnarsson  Arsenal  Goalkeeper     Iceland  25.0            0   \n",
       "3       Héctor Bellerín  Arsenal    Defender       Spain  25.0          160   \n",
       "4        Kieran Tierney  Arsenal    Defender    Scotland  23.0           16   \n",
       "\n",
       "   Wins  Losses  Goals  Goals per match  ...  Punches  High Claims  Catches  \\\n",
       "0    28      16      0              0.0  ...     34.0         26.0     17.0   \n",
       "1     0       0      0              0.0  ...      0.0          0.0      0.0   \n",
       "2     0       0      0              0.0  ...      0.0          0.0      0.0   \n",
       "3    90      37      7              0.0  ...      0.0          0.0      0.0   \n",
       "4     7       5      1              0.0  ...      0.0          0.0      0.0   \n",
       "\n",
       "   Sweeper clearances  Throw outs  Goal Kicks  Yellow cards  Red cards  Fouls  \\\n",
       "0                28.0       375.0       489.0             2          0      0   \n",
       "1                 0.0         0.0         0.0             0          0      0   \n",
       "2                 0.0         0.0         0.0             0          0      0   \n",
       "3                 0.0         0.0         0.0            23          0    125   \n",
       "4                 0.0         0.0         0.0             2          0      9   \n",
       "\n",
       "   Offsides  \n",
       "0       0.0  \n",
       "1       0.0  \n",
       "2       0.0  \n",
       "3       8.0  \n",
       "4       0.0  \n",
       "\n",
       "[5 rows x 58 columns]"
      ]
     },
     "execution_count": 63,
     "metadata": {},
     "output_type": "execute_result"
    }
   ],
   "source": [
    "df.head()"
   ]
  },
  {
   "cell_type": "code",
   "execution_count": 64,
   "metadata": {},
   "outputs": [],
   "source": [
    "df.reset_index(inplace=True)"
   ]
  },
  {
   "cell_type": "code",
   "execution_count": 65,
   "metadata": {},
   "outputs": [],
   "source": [
    "df.drop(columns='index',inplace=True)"
   ]
  },
  {
   "cell_type": "code",
   "execution_count": 66,
   "metadata": {},
   "outputs": [
    {
     "data": {
      "text/html": [
       "<div>\n",
       "<style scoped>\n",
       "    .dataframe tbody tr th:only-of-type {\n",
       "        vertical-align: middle;\n",
       "    }\n",
       "\n",
       "    .dataframe tbody tr th {\n",
       "        vertical-align: top;\n",
       "    }\n",
       "\n",
       "    .dataframe thead th {\n",
       "        text-align: right;\n",
       "    }\n",
       "</style>\n",
       "<table border=\"1\" class=\"dataframe\">\n",
       "  <thead>\n",
       "    <tr style=\"text-align: right;\">\n",
       "      <th></th>\n",
       "      <th>Name</th>\n",
       "      <th>Club</th>\n",
       "      <th>Position</th>\n",
       "      <th>Nationality</th>\n",
       "      <th>Age</th>\n",
       "      <th>Appearances</th>\n",
       "      <th>Wins</th>\n",
       "      <th>Losses</th>\n",
       "      <th>Goals</th>\n",
       "      <th>Goals per match</th>\n",
       "      <th>...</th>\n",
       "      <th>Punches</th>\n",
       "      <th>High Claims</th>\n",
       "      <th>Catches</th>\n",
       "      <th>Sweeper clearances</th>\n",
       "      <th>Throw outs</th>\n",
       "      <th>Goal Kicks</th>\n",
       "      <th>Yellow cards</th>\n",
       "      <th>Red cards</th>\n",
       "      <th>Fouls</th>\n",
       "      <th>Offsides</th>\n",
       "    </tr>\n",
       "  </thead>\n",
       "  <tbody>\n",
       "    <tr>\n",
       "      <th>0</th>\n",
       "      <td>Bernd Leno</td>\n",
       "      <td>Arsenal</td>\n",
       "      <td>Goalkeeper</td>\n",
       "      <td>Germany</td>\n",
       "      <td>28.0</td>\n",
       "      <td>64</td>\n",
       "      <td>28</td>\n",
       "      <td>16</td>\n",
       "      <td>0</td>\n",
       "      <td>0.0</td>\n",
       "      <td>...</td>\n",
       "      <td>34.0</td>\n",
       "      <td>26.0</td>\n",
       "      <td>17.0</td>\n",
       "      <td>28.0</td>\n",
       "      <td>375.0</td>\n",
       "      <td>489.0</td>\n",
       "      <td>2</td>\n",
       "      <td>0</td>\n",
       "      <td>0</td>\n",
       "      <td>0.0</td>\n",
       "    </tr>\n",
       "    <tr>\n",
       "      <th>1</th>\n",
       "      <td>Matt Macey</td>\n",
       "      <td>Arsenal</td>\n",
       "      <td>Goalkeeper</td>\n",
       "      <td>England</td>\n",
       "      <td>26.0</td>\n",
       "      <td>0</td>\n",
       "      <td>0</td>\n",
       "      <td>0</td>\n",
       "      <td>0</td>\n",
       "      <td>0.0</td>\n",
       "      <td>...</td>\n",
       "      <td>0.0</td>\n",
       "      <td>0.0</td>\n",
       "      <td>0.0</td>\n",
       "      <td>0.0</td>\n",
       "      <td>0.0</td>\n",
       "      <td>0.0</td>\n",
       "      <td>0</td>\n",
       "      <td>0</td>\n",
       "      <td>0</td>\n",
       "      <td>0.0</td>\n",
       "    </tr>\n",
       "    <tr>\n",
       "      <th>2</th>\n",
       "      <td>Rúnar Alex Rúnarsson</td>\n",
       "      <td>Arsenal</td>\n",
       "      <td>Goalkeeper</td>\n",
       "      <td>Iceland</td>\n",
       "      <td>25.0</td>\n",
       "      <td>0</td>\n",
       "      <td>0</td>\n",
       "      <td>0</td>\n",
       "      <td>0</td>\n",
       "      <td>0.0</td>\n",
       "      <td>...</td>\n",
       "      <td>0.0</td>\n",
       "      <td>0.0</td>\n",
       "      <td>0.0</td>\n",
       "      <td>0.0</td>\n",
       "      <td>0.0</td>\n",
       "      <td>0.0</td>\n",
       "      <td>0</td>\n",
       "      <td>0</td>\n",
       "      <td>0</td>\n",
       "      <td>0.0</td>\n",
       "    </tr>\n",
       "    <tr>\n",
       "      <th>3</th>\n",
       "      <td>Héctor Bellerín</td>\n",
       "      <td>Arsenal</td>\n",
       "      <td>Defender</td>\n",
       "      <td>Spain</td>\n",
       "      <td>25.0</td>\n",
       "      <td>160</td>\n",
       "      <td>90</td>\n",
       "      <td>37</td>\n",
       "      <td>7</td>\n",
       "      <td>0.0</td>\n",
       "      <td>...</td>\n",
       "      <td>0.0</td>\n",
       "      <td>0.0</td>\n",
       "      <td>0.0</td>\n",
       "      <td>0.0</td>\n",
       "      <td>0.0</td>\n",
       "      <td>0.0</td>\n",
       "      <td>23</td>\n",
       "      <td>0</td>\n",
       "      <td>125</td>\n",
       "      <td>8.0</td>\n",
       "    </tr>\n",
       "    <tr>\n",
       "      <th>4</th>\n",
       "      <td>Kieran Tierney</td>\n",
       "      <td>Arsenal</td>\n",
       "      <td>Defender</td>\n",
       "      <td>Scotland</td>\n",
       "      <td>23.0</td>\n",
       "      <td>16</td>\n",
       "      <td>7</td>\n",
       "      <td>5</td>\n",
       "      <td>1</td>\n",
       "      <td>0.0</td>\n",
       "      <td>...</td>\n",
       "      <td>0.0</td>\n",
       "      <td>0.0</td>\n",
       "      <td>0.0</td>\n",
       "      <td>0.0</td>\n",
       "      <td>0.0</td>\n",
       "      <td>0.0</td>\n",
       "      <td>2</td>\n",
       "      <td>0</td>\n",
       "      <td>9</td>\n",
       "      <td>0.0</td>\n",
       "    </tr>\n",
       "  </tbody>\n",
       "</table>\n",
       "<p>5 rows × 58 columns</p>\n",
       "</div>"
      ],
      "text/plain": [
       "                   Name     Club    Position Nationality   Age  Appearances  \\\n",
       "0            Bernd Leno  Arsenal  Goalkeeper     Germany  28.0           64   \n",
       "1            Matt Macey  Arsenal  Goalkeeper     England  26.0            0   \n",
       "2  Rúnar Alex Rúnarsson  Arsenal  Goalkeeper     Iceland  25.0            0   \n",
       "3       Héctor Bellerín  Arsenal    Defender       Spain  25.0          160   \n",
       "4        Kieran Tierney  Arsenal    Defender    Scotland  23.0           16   \n",
       "\n",
       "   Wins  Losses  Goals  Goals per match  ...  Punches  High Claims  Catches  \\\n",
       "0    28      16      0              0.0  ...     34.0         26.0     17.0   \n",
       "1     0       0      0              0.0  ...      0.0          0.0      0.0   \n",
       "2     0       0      0              0.0  ...      0.0          0.0      0.0   \n",
       "3    90      37      7              0.0  ...      0.0          0.0      0.0   \n",
       "4     7       5      1              0.0  ...      0.0          0.0      0.0   \n",
       "\n",
       "   Sweeper clearances  Throw outs  Goal Kicks  Yellow cards  Red cards  Fouls  \\\n",
       "0                28.0       375.0       489.0             2          0      0   \n",
       "1                 0.0         0.0         0.0             0          0      0   \n",
       "2                 0.0         0.0         0.0             0          0      0   \n",
       "3                 0.0         0.0         0.0            23          0    125   \n",
       "4                 0.0         0.0         0.0             2          0      9   \n",
       "\n",
       "   Offsides  \n",
       "0       0.0  \n",
       "1       0.0  \n",
       "2       0.0  \n",
       "3       8.0  \n",
       "4       0.0  \n",
       "\n",
       "[5 rows x 58 columns]"
      ]
     },
     "execution_count": 66,
     "metadata": {},
     "output_type": "execute_result"
    }
   ],
   "source": [
    "df.head()"
   ]
  },
  {
   "cell_type": "code",
   "execution_count": 67,
   "metadata": {},
   "outputs": [
    {
     "data": {
      "application/vnd.plotly.v1+json": {
       "config": {
        "plotlyServerURL": "https://plot.ly"
       },
       "data": [
        {
         "domain": {
          "x": [
           0,
           1
          ],
          "y": [
           0,
           1
          ]
         },
         "hovertemplate": "label=%{label}<br>value=%{value}<extra></extra>",
         "labels": [
          "England",
          "France",
          "Spain",
          "Brazil",
          "Ireland",
          "Portugal",
          "Scotland",
          "Netherlands",
          "Argentina",
          "Belgium",
          "Wales",
          "Germany",
          "Poland",
          "Cote D'Ivoire",
          "Denmark",
          "United States",
          "Northern Ireland",
          "Nigeria",
          "Ghana",
          "Serbia",
          "Egypt",
          "Colombia",
          "Italy",
          "Switzerland",
          "The Democratic Republic Of Congo",
          "Sweden",
          "Turkey",
          "Morocco",
          "Jamaica",
          "Senegal",
          "Mali",
          "Norway",
          "Algeria",
          "Iceland",
          "Croatia",
          "Greece",
          "Paraguay",
          "Australia",
          "Cameroon",
          "Ukraine",
          "Gabon",
          "Slovakia",
          "Bosnia And Herzegovina",
          "Japan",
          "Mexico",
          "Saint Kitts And Nevis",
          "South Korea",
          "Guinea",
          "Romania",
          "Austria",
          "Czech Republic",
          "New Zealand",
          "Iran",
          "Burkina Faso",
          "Zimbabwe",
          "Uruguay",
          "Ecuador"
         ],
         "legendgroup": "",
         "name": "",
         "showlegend": true,
         "textposition": "inside",
         "type": "pie",
         "values": [
          221,
          30,
          28,
          24,
          24,
          21,
          20,
          18,
          13,
          13,
          13,
          12,
          7,
          7,
          7,
          6,
          6,
          6,
          5,
          5,
          5,
          5,
          5,
          4,
          4,
          4,
          3,
          3,
          3,
          3,
          3,
          3,
          3,
          3,
          3,
          2,
          2,
          2,
          2,
          2,
          2,
          2,
          2,
          1,
          1,
          1,
          1,
          1,
          1,
          1,
          1,
          1,
          1,
          1,
          1,
          1,
          1
         ]
        }
       ],
       "layout": {
        "legend": {
         "tracegroupgap": 0
        },
        "margin": {
         "t": 60
        },
        "template": {
         "data": {
          "bar": [
           {
            "error_x": {
             "color": "#2a3f5f"
            },
            "error_y": {
             "color": "#2a3f5f"
            },
            "marker": {
             "line": {
              "color": "#E5ECF6",
              "width": 0.5
             },
             "pattern": {
              "fillmode": "overlay",
              "size": 10,
              "solidity": 0.2
             }
            },
            "type": "bar"
           }
          ],
          "barpolar": [
           {
            "marker": {
             "line": {
              "color": "#E5ECF6",
              "width": 0.5
             },
             "pattern": {
              "fillmode": "overlay",
              "size": 10,
              "solidity": 0.2
             }
            },
            "type": "barpolar"
           }
          ],
          "carpet": [
           {
            "aaxis": {
             "endlinecolor": "#2a3f5f",
             "gridcolor": "white",
             "linecolor": "white",
             "minorgridcolor": "white",
             "startlinecolor": "#2a3f5f"
            },
            "baxis": {
             "endlinecolor": "#2a3f5f",
             "gridcolor": "white",
             "linecolor": "white",
             "minorgridcolor": "white",
             "startlinecolor": "#2a3f5f"
            },
            "type": "carpet"
           }
          ],
          "choropleth": [
           {
            "colorbar": {
             "outlinewidth": 0,
             "ticks": ""
            },
            "type": "choropleth"
           }
          ],
          "contour": [
           {
            "colorbar": {
             "outlinewidth": 0,
             "ticks": ""
            },
            "colorscale": [
             [
              0,
              "#0d0887"
             ],
             [
              0.1111111111111111,
              "#46039f"
             ],
             [
              0.2222222222222222,
              "#7201a8"
             ],
             [
              0.3333333333333333,
              "#9c179e"
             ],
             [
              0.4444444444444444,
              "#bd3786"
             ],
             [
              0.5555555555555556,
              "#d8576b"
             ],
             [
              0.6666666666666666,
              "#ed7953"
             ],
             [
              0.7777777777777778,
              "#fb9f3a"
             ],
             [
              0.8888888888888888,
              "#fdca26"
             ],
             [
              1,
              "#f0f921"
             ]
            ],
            "type": "contour"
           }
          ],
          "contourcarpet": [
           {
            "colorbar": {
             "outlinewidth": 0,
             "ticks": ""
            },
            "type": "contourcarpet"
           }
          ],
          "heatmap": [
           {
            "colorbar": {
             "outlinewidth": 0,
             "ticks": ""
            },
            "colorscale": [
             [
              0,
              "#0d0887"
             ],
             [
              0.1111111111111111,
              "#46039f"
             ],
             [
              0.2222222222222222,
              "#7201a8"
             ],
             [
              0.3333333333333333,
              "#9c179e"
             ],
             [
              0.4444444444444444,
              "#bd3786"
             ],
             [
              0.5555555555555556,
              "#d8576b"
             ],
             [
              0.6666666666666666,
              "#ed7953"
             ],
             [
              0.7777777777777778,
              "#fb9f3a"
             ],
             [
              0.8888888888888888,
              "#fdca26"
             ],
             [
              1,
              "#f0f921"
             ]
            ],
            "type": "heatmap"
           }
          ],
          "heatmapgl": [
           {
            "colorbar": {
             "outlinewidth": 0,
             "ticks": ""
            },
            "colorscale": [
             [
              0,
              "#0d0887"
             ],
             [
              0.1111111111111111,
              "#46039f"
             ],
             [
              0.2222222222222222,
              "#7201a8"
             ],
             [
              0.3333333333333333,
              "#9c179e"
             ],
             [
              0.4444444444444444,
              "#bd3786"
             ],
             [
              0.5555555555555556,
              "#d8576b"
             ],
             [
              0.6666666666666666,
              "#ed7953"
             ],
             [
              0.7777777777777778,
              "#fb9f3a"
             ],
             [
              0.8888888888888888,
              "#fdca26"
             ],
             [
              1,
              "#f0f921"
             ]
            ],
            "type": "heatmapgl"
           }
          ],
          "histogram": [
           {
            "marker": {
             "pattern": {
              "fillmode": "overlay",
              "size": 10,
              "solidity": 0.2
             }
            },
            "type": "histogram"
           }
          ],
          "histogram2d": [
           {
            "colorbar": {
             "outlinewidth": 0,
             "ticks": ""
            },
            "colorscale": [
             [
              0,
              "#0d0887"
             ],
             [
              0.1111111111111111,
              "#46039f"
             ],
             [
              0.2222222222222222,
              "#7201a8"
             ],
             [
              0.3333333333333333,
              "#9c179e"
             ],
             [
              0.4444444444444444,
              "#bd3786"
             ],
             [
              0.5555555555555556,
              "#d8576b"
             ],
             [
              0.6666666666666666,
              "#ed7953"
             ],
             [
              0.7777777777777778,
              "#fb9f3a"
             ],
             [
              0.8888888888888888,
              "#fdca26"
             ],
             [
              1,
              "#f0f921"
             ]
            ],
            "type": "histogram2d"
           }
          ],
          "histogram2dcontour": [
           {
            "colorbar": {
             "outlinewidth": 0,
             "ticks": ""
            },
            "colorscale": [
             [
              0,
              "#0d0887"
             ],
             [
              0.1111111111111111,
              "#46039f"
             ],
             [
              0.2222222222222222,
              "#7201a8"
             ],
             [
              0.3333333333333333,
              "#9c179e"
             ],
             [
              0.4444444444444444,
              "#bd3786"
             ],
             [
              0.5555555555555556,
              "#d8576b"
             ],
             [
              0.6666666666666666,
              "#ed7953"
             ],
             [
              0.7777777777777778,
              "#fb9f3a"
             ],
             [
              0.8888888888888888,
              "#fdca26"
             ],
             [
              1,
              "#f0f921"
             ]
            ],
            "type": "histogram2dcontour"
           }
          ],
          "mesh3d": [
           {
            "colorbar": {
             "outlinewidth": 0,
             "ticks": ""
            },
            "type": "mesh3d"
           }
          ],
          "parcoords": [
           {
            "line": {
             "colorbar": {
              "outlinewidth": 0,
              "ticks": ""
             }
            },
            "type": "parcoords"
           }
          ],
          "pie": [
           {
            "automargin": true,
            "type": "pie"
           }
          ],
          "scatter": [
           {
            "fillpattern": {
             "fillmode": "overlay",
             "size": 10,
             "solidity": 0.2
            },
            "type": "scatter"
           }
          ],
          "scatter3d": [
           {
            "line": {
             "colorbar": {
              "outlinewidth": 0,
              "ticks": ""
             }
            },
            "marker": {
             "colorbar": {
              "outlinewidth": 0,
              "ticks": ""
             }
            },
            "type": "scatter3d"
           }
          ],
          "scattercarpet": [
           {
            "marker": {
             "colorbar": {
              "outlinewidth": 0,
              "ticks": ""
             }
            },
            "type": "scattercarpet"
           }
          ],
          "scattergeo": [
           {
            "marker": {
             "colorbar": {
              "outlinewidth": 0,
              "ticks": ""
             }
            },
            "type": "scattergeo"
           }
          ],
          "scattergl": [
           {
            "marker": {
             "colorbar": {
              "outlinewidth": 0,
              "ticks": ""
             }
            },
            "type": "scattergl"
           }
          ],
          "scattermapbox": [
           {
            "marker": {
             "colorbar": {
              "outlinewidth": 0,
              "ticks": ""
             }
            },
            "type": "scattermapbox"
           }
          ],
          "scatterpolar": [
           {
            "marker": {
             "colorbar": {
              "outlinewidth": 0,
              "ticks": ""
             }
            },
            "type": "scatterpolar"
           }
          ],
          "scatterpolargl": [
           {
            "marker": {
             "colorbar": {
              "outlinewidth": 0,
              "ticks": ""
             }
            },
            "type": "scatterpolargl"
           }
          ],
          "scatterternary": [
           {
            "marker": {
             "colorbar": {
              "outlinewidth": 0,
              "ticks": ""
             }
            },
            "type": "scatterternary"
           }
          ],
          "surface": [
           {
            "colorbar": {
             "outlinewidth": 0,
             "ticks": ""
            },
            "colorscale": [
             [
              0,
              "#0d0887"
             ],
             [
              0.1111111111111111,
              "#46039f"
             ],
             [
              0.2222222222222222,
              "#7201a8"
             ],
             [
              0.3333333333333333,
              "#9c179e"
             ],
             [
              0.4444444444444444,
              "#bd3786"
             ],
             [
              0.5555555555555556,
              "#d8576b"
             ],
             [
              0.6666666666666666,
              "#ed7953"
             ],
             [
              0.7777777777777778,
              "#fb9f3a"
             ],
             [
              0.8888888888888888,
              "#fdca26"
             ],
             [
              1,
              "#f0f921"
             ]
            ],
            "type": "surface"
           }
          ],
          "table": [
           {
            "cells": {
             "fill": {
              "color": "#EBF0F8"
             },
             "line": {
              "color": "white"
             }
            },
            "header": {
             "fill": {
              "color": "#C8D4E3"
             },
             "line": {
              "color": "white"
             }
            },
            "type": "table"
           }
          ]
         },
         "layout": {
          "annotationdefaults": {
           "arrowcolor": "#2a3f5f",
           "arrowhead": 0,
           "arrowwidth": 1
          },
          "autotypenumbers": "strict",
          "coloraxis": {
           "colorbar": {
            "outlinewidth": 0,
            "ticks": ""
           }
          },
          "colorscale": {
           "diverging": [
            [
             0,
             "#8e0152"
            ],
            [
             0.1,
             "#c51b7d"
            ],
            [
             0.2,
             "#de77ae"
            ],
            [
             0.3,
             "#f1b6da"
            ],
            [
             0.4,
             "#fde0ef"
            ],
            [
             0.5,
             "#f7f7f7"
            ],
            [
             0.6,
             "#e6f5d0"
            ],
            [
             0.7,
             "#b8e186"
            ],
            [
             0.8,
             "#7fbc41"
            ],
            [
             0.9,
             "#4d9221"
            ],
            [
             1,
             "#276419"
            ]
           ],
           "sequential": [
            [
             0,
             "#0d0887"
            ],
            [
             0.1111111111111111,
             "#46039f"
            ],
            [
             0.2222222222222222,
             "#7201a8"
            ],
            [
             0.3333333333333333,
             "#9c179e"
            ],
            [
             0.4444444444444444,
             "#bd3786"
            ],
            [
             0.5555555555555556,
             "#d8576b"
            ],
            [
             0.6666666666666666,
             "#ed7953"
            ],
            [
             0.7777777777777778,
             "#fb9f3a"
            ],
            [
             0.8888888888888888,
             "#fdca26"
            ],
            [
             1,
             "#f0f921"
            ]
           ],
           "sequentialminus": [
            [
             0,
             "#0d0887"
            ],
            [
             0.1111111111111111,
             "#46039f"
            ],
            [
             0.2222222222222222,
             "#7201a8"
            ],
            [
             0.3333333333333333,
             "#9c179e"
            ],
            [
             0.4444444444444444,
             "#bd3786"
            ],
            [
             0.5555555555555556,
             "#d8576b"
            ],
            [
             0.6666666666666666,
             "#ed7953"
            ],
            [
             0.7777777777777778,
             "#fb9f3a"
            ],
            [
             0.8888888888888888,
             "#fdca26"
            ],
            [
             1,
             "#f0f921"
            ]
           ]
          },
          "colorway": [
           "#636efa",
           "#EF553B",
           "#00cc96",
           "#ab63fa",
           "#FFA15A",
           "#19d3f3",
           "#FF6692",
           "#B6E880",
           "#FF97FF",
           "#FECB52"
          ],
          "font": {
           "color": "#2a3f5f"
          },
          "geo": {
           "bgcolor": "white",
           "lakecolor": "white",
           "landcolor": "#E5ECF6",
           "showlakes": true,
           "showland": true,
           "subunitcolor": "white"
          },
          "hoverlabel": {
           "align": "left"
          },
          "hovermode": "closest",
          "mapbox": {
           "style": "light"
          },
          "paper_bgcolor": "white",
          "plot_bgcolor": "#E5ECF6",
          "polar": {
           "angularaxis": {
            "gridcolor": "white",
            "linecolor": "white",
            "ticks": ""
           },
           "bgcolor": "#E5ECF6",
           "radialaxis": {
            "gridcolor": "white",
            "linecolor": "white",
            "ticks": ""
           }
          },
          "scene": {
           "xaxis": {
            "backgroundcolor": "#E5ECF6",
            "gridcolor": "white",
            "gridwidth": 2,
            "linecolor": "white",
            "showbackground": true,
            "ticks": "",
            "zerolinecolor": "white"
           },
           "yaxis": {
            "backgroundcolor": "#E5ECF6",
            "gridcolor": "white",
            "gridwidth": 2,
            "linecolor": "white",
            "showbackground": true,
            "ticks": "",
            "zerolinecolor": "white"
           },
           "zaxis": {
            "backgroundcolor": "#E5ECF6",
            "gridcolor": "white",
            "gridwidth": 2,
            "linecolor": "white",
            "showbackground": true,
            "ticks": "",
            "zerolinecolor": "white"
           }
          },
          "shapedefaults": {
           "line": {
            "color": "#2a3f5f"
           }
          },
          "ternary": {
           "aaxis": {
            "gridcolor": "white",
            "linecolor": "white",
            "ticks": ""
           },
           "baxis": {
            "gridcolor": "white",
            "linecolor": "white",
            "ticks": ""
           },
           "bgcolor": "#E5ECF6",
           "caxis": {
            "gridcolor": "white",
            "linecolor": "white",
            "ticks": ""
           }
          },
          "title": {
           "x": 0.05
          },
          "xaxis": {
           "automargin": true,
           "gridcolor": "white",
           "linecolor": "white",
           "ticks": "",
           "title": {
            "standoff": 15
           },
           "zerolinecolor": "white",
           "zerolinewidth": 2
          },
          "yaxis": {
           "automargin": true,
           "gridcolor": "white",
           "linecolor": "white",
           "ticks": "",
           "title": {
            "standoff": 15
           },
           "zerolinecolor": "white",
           "zerolinewidth": 2
          }
         }
        }
       }
      }
     },
     "metadata": {},
     "output_type": "display_data"
    }
   ],
   "source": [
    "#nationalities\n",
    "\n",
    "fig=px.pie(df['Nationality'].value_counts(),values=df['Nationality'].value_counts().values,names=df['Nationality'].value_counts().index)\n",
    "fig.update_traces(textposition='inside')"
   ]
  },
  {
   "cell_type": "code",
   "execution_count": 68,
   "metadata": {},
   "outputs": [
    {
     "data": {
      "text/html": [
       "<div>\n",
       "<style scoped>\n",
       "    .dataframe tbody tr th:only-of-type {\n",
       "        vertical-align: middle;\n",
       "    }\n",
       "\n",
       "    .dataframe tbody tr th {\n",
       "        vertical-align: top;\n",
       "    }\n",
       "\n",
       "    .dataframe thead th {\n",
       "        text-align: right;\n",
       "    }\n",
       "</style>\n",
       "<table border=\"1\" class=\"dataframe\">\n",
       "  <thead>\n",
       "    <tr style=\"text-align: right;\">\n",
       "      <th></th>\n",
       "      <th>Name</th>\n",
       "      <th>Club</th>\n",
       "      <th>Position</th>\n",
       "      <th>Nationality</th>\n",
       "      <th>Age</th>\n",
       "      <th>Appearances</th>\n",
       "      <th>Wins</th>\n",
       "      <th>Losses</th>\n",
       "      <th>Goals</th>\n",
       "      <th>Goals per match</th>\n",
       "      <th>...</th>\n",
       "      <th>Punches</th>\n",
       "      <th>High Claims</th>\n",
       "      <th>Catches</th>\n",
       "      <th>Sweeper clearances</th>\n",
       "      <th>Throw outs</th>\n",
       "      <th>Goal Kicks</th>\n",
       "      <th>Yellow cards</th>\n",
       "      <th>Red cards</th>\n",
       "      <th>Fouls</th>\n",
       "      <th>Offsides</th>\n",
       "    </tr>\n",
       "  </thead>\n",
       "  <tbody>\n",
       "    <tr>\n",
       "      <th>301</th>\n",
       "      <td>James Milner</td>\n",
       "      <td>Liverpool</td>\n",
       "      <td>Midfielder</td>\n",
       "      <td>England</td>\n",
       "      <td>34.0</td>\n",
       "      <td>539</td>\n",
       "      <td>272</td>\n",
       "      <td>133</td>\n",
       "      <td>55</td>\n",
       "      <td>0.10</td>\n",
       "      <td>...</td>\n",
       "      <td>0.0</td>\n",
       "      <td>0.0</td>\n",
       "      <td>0.0</td>\n",
       "      <td>0.0</td>\n",
       "      <td>0.0</td>\n",
       "      <td>0.0</td>\n",
       "      <td>65</td>\n",
       "      <td>3</td>\n",
       "      <td>438</td>\n",
       "      <td>45.0</td>\n",
       "    </tr>\n",
       "    <tr>\n",
       "      <th>303</th>\n",
       "      <td>Jordan Henderson</td>\n",
       "      <td>Liverpool</td>\n",
       "      <td>Midfielder</td>\n",
       "      <td>England</td>\n",
       "      <td>30.0</td>\n",
       "      <td>342</td>\n",
       "      <td>185</td>\n",
       "      <td>79</td>\n",
       "      <td>30</td>\n",
       "      <td>0.09</td>\n",
       "      <td>...</td>\n",
       "      <td>0.0</td>\n",
       "      <td>0.0</td>\n",
       "      <td>0.0</td>\n",
       "      <td>0.0</td>\n",
       "      <td>0.0</td>\n",
       "      <td>0.0</td>\n",
       "      <td>34</td>\n",
       "      <td>2</td>\n",
       "      <td>299</td>\n",
       "      <td>29.0</td>\n",
       "    </tr>\n",
       "    <tr>\n",
       "      <th>323</th>\n",
       "      <td>Kyle Walker</td>\n",
       "      <td>Manchester-City</td>\n",
       "      <td>Defender</td>\n",
       "      <td>England</td>\n",
       "      <td>30.0</td>\n",
       "      <td>293</td>\n",
       "      <td>183</td>\n",
       "      <td>50</td>\n",
       "      <td>7</td>\n",
       "      <td>0.00</td>\n",
       "      <td>...</td>\n",
       "      <td>0.0</td>\n",
       "      <td>0.0</td>\n",
       "      <td>0.0</td>\n",
       "      <td>0.0</td>\n",
       "      <td>0.0</td>\n",
       "      <td>0.0</td>\n",
       "      <td>45</td>\n",
       "      <td>1</td>\n",
       "      <td>239</td>\n",
       "      <td>22.0</td>\n",
       "    </tr>\n",
       "    <tr>\n",
       "      <th>343</th>\n",
       "      <td>Sergio Agüero</td>\n",
       "      <td>Manchester-City</td>\n",
       "      <td>Forward</td>\n",
       "      <td>Argentina</td>\n",
       "      <td>32.0</td>\n",
       "      <td>263</td>\n",
       "      <td>177</td>\n",
       "      <td>44</td>\n",
       "      <td>180</td>\n",
       "      <td>0.68</td>\n",
       "      <td>...</td>\n",
       "      <td>0.0</td>\n",
       "      <td>0.0</td>\n",
       "      <td>0.0</td>\n",
       "      <td>0.0</td>\n",
       "      <td>0.0</td>\n",
       "      <td>0.0</td>\n",
       "      <td>23</td>\n",
       "      <td>1</td>\n",
       "      <td>167</td>\n",
       "      <td>194.0</td>\n",
       "    </tr>\n",
       "    <tr>\n",
       "      <th>198</th>\n",
       "      <td>Theo Walcott</td>\n",
       "      <td>Everton</td>\n",
       "      <td>Forward</td>\n",
       "      <td>England</td>\n",
       "      <td>31.0</td>\n",
       "      <td>346</td>\n",
       "      <td>176</td>\n",
       "      <td>93</td>\n",
       "      <td>75</td>\n",
       "      <td>0.22</td>\n",
       "      <td>...</td>\n",
       "      <td>0.0</td>\n",
       "      <td>0.0</td>\n",
       "      <td>0.0</td>\n",
       "      <td>0.0</td>\n",
       "      <td>0.0</td>\n",
       "      <td>0.0</td>\n",
       "      <td>10</td>\n",
       "      <td>0</td>\n",
       "      <td>101</td>\n",
       "      <td>163.0</td>\n",
       "    </tr>\n",
       "    <tr>\n",
       "      <th>...</th>\n",
       "      <td>...</td>\n",
       "      <td>...</td>\n",
       "      <td>...</td>\n",
       "      <td>...</td>\n",
       "      <td>...</td>\n",
       "      <td>...</td>\n",
       "      <td>...</td>\n",
       "      <td>...</td>\n",
       "      <td>...</td>\n",
       "      <td>...</td>\n",
       "      <td>...</td>\n",
       "      <td>...</td>\n",
       "      <td>...</td>\n",
       "      <td>...</td>\n",
       "      <td>...</td>\n",
       "      <td>...</td>\n",
       "      <td>...</td>\n",
       "      <td>...</td>\n",
       "      <td>...</td>\n",
       "      <td>...</td>\n",
       "      <td>...</td>\n",
       "    </tr>\n",
       "    <tr>\n",
       "      <th>59</th>\n",
       "      <td>Jason Steele</td>\n",
       "      <td>Brighton-and-Hove-Albion</td>\n",
       "      <td>Goalkeeper</td>\n",
       "      <td>England</td>\n",
       "      <td>30.0</td>\n",
       "      <td>0</td>\n",
       "      <td>0</td>\n",
       "      <td>0</td>\n",
       "      <td>0</td>\n",
       "      <td>0.00</td>\n",
       "      <td>...</td>\n",
       "      <td>0.0</td>\n",
       "      <td>0.0</td>\n",
       "      <td>0.0</td>\n",
       "      <td>0.0</td>\n",
       "      <td>0.0</td>\n",
       "      <td>0.0</td>\n",
       "      <td>0</td>\n",
       "      <td>0</td>\n",
       "      <td>0</td>\n",
       "      <td>0.0</td>\n",
       "    </tr>\n",
       "    <tr>\n",
       "      <th>60</th>\n",
       "      <td>Christian Walton</td>\n",
       "      <td>Brighton-and-Hove-Albion</td>\n",
       "      <td>Goalkeeper</td>\n",
       "      <td>England</td>\n",
       "      <td>24.0</td>\n",
       "      <td>0</td>\n",
       "      <td>0</td>\n",
       "      <td>0</td>\n",
       "      <td>0</td>\n",
       "      <td>0.00</td>\n",
       "      <td>...</td>\n",
       "      <td>0.0</td>\n",
       "      <td>0.0</td>\n",
       "      <td>0.0</td>\n",
       "      <td>0.0</td>\n",
       "      <td>0.0</td>\n",
       "      <td>0.0</td>\n",
       "      <td>0</td>\n",
       "      <td>0</td>\n",
       "      <td>0</td>\n",
       "      <td>0.0</td>\n",
       "    </tr>\n",
       "    <tr>\n",
       "      <th>473</th>\n",
       "      <td>Sergio Reguilón</td>\n",
       "      <td>Tottenham-Hotspur</td>\n",
       "      <td>Defender</td>\n",
       "      <td>Spain</td>\n",
       "      <td>23.0</td>\n",
       "      <td>0</td>\n",
       "      <td>0</td>\n",
       "      <td>0</td>\n",
       "      <td>0</td>\n",
       "      <td>0.00</td>\n",
       "      <td>...</td>\n",
       "      <td>0.0</td>\n",
       "      <td>0.0</td>\n",
       "      <td>0.0</td>\n",
       "      <td>0.0</td>\n",
       "      <td>0.0</td>\n",
       "      <td>0.0</td>\n",
       "      <td>0</td>\n",
       "      <td>0</td>\n",
       "      <td>0</td>\n",
       "      <td>0.0</td>\n",
       "    </tr>\n",
       "    <tr>\n",
       "      <th>472</th>\n",
       "      <td>Cameron Carter-Vickers</td>\n",
       "      <td>Tottenham-Hotspur</td>\n",
       "      <td>Defender</td>\n",
       "      <td>United States</td>\n",
       "      <td>22.0</td>\n",
       "      <td>0</td>\n",
       "      <td>0</td>\n",
       "      <td>0</td>\n",
       "      <td>0</td>\n",
       "      <td>0.00</td>\n",
       "      <td>...</td>\n",
       "      <td>0.0</td>\n",
       "      <td>0.0</td>\n",
       "      <td>0.0</td>\n",
       "      <td>0.0</td>\n",
       "      <td>0.0</td>\n",
       "      <td>0.0</td>\n",
       "      <td>0</td>\n",
       "      <td>0</td>\n",
       "      <td>0</td>\n",
       "      <td>0.0</td>\n",
       "    </tr>\n",
       "    <tr>\n",
       "      <th>569</th>\n",
       "      <td>Leonardo Campana</td>\n",
       "      <td>Wolverhampton-Wanderers</td>\n",
       "      <td>Forward</td>\n",
       "      <td>Ecuador</td>\n",
       "      <td>20.0</td>\n",
       "      <td>0</td>\n",
       "      <td>0</td>\n",
       "      <td>0</td>\n",
       "      <td>0</td>\n",
       "      <td>0.00</td>\n",
       "      <td>...</td>\n",
       "      <td>0.0</td>\n",
       "      <td>0.0</td>\n",
       "      <td>0.0</td>\n",
       "      <td>0.0</td>\n",
       "      <td>0.0</td>\n",
       "      <td>0.0</td>\n",
       "      <td>0</td>\n",
       "      <td>0</td>\n",
       "      <td>0</td>\n",
       "      <td>0.0</td>\n",
       "    </tr>\n",
       "  </tbody>\n",
       "</table>\n",
       "<p>570 rows × 58 columns</p>\n",
       "</div>"
      ],
      "text/plain": [
       "                       Name                      Club    Position  \\\n",
       "301            James Milner                 Liverpool  Midfielder   \n",
       "303        Jordan Henderson                 Liverpool  Midfielder   \n",
       "323             Kyle Walker           Manchester-City    Defender   \n",
       "343           Sergio Agüero           Manchester-City     Forward   \n",
       "198            Theo Walcott                   Everton     Forward   \n",
       "..                      ...                       ...         ...   \n",
       "59             Jason Steele  Brighton-and-Hove-Albion  Goalkeeper   \n",
       "60         Christian Walton  Brighton-and-Hove-Albion  Goalkeeper   \n",
       "473         Sergio Reguilón         Tottenham-Hotspur    Defender   \n",
       "472  Cameron Carter-Vickers         Tottenham-Hotspur    Defender   \n",
       "569        Leonardo Campana   Wolverhampton-Wanderers     Forward   \n",
       "\n",
       "       Nationality   Age  Appearances  Wins  Losses  Goals  Goals per match  \\\n",
       "301        England  34.0          539   272     133     55             0.10   \n",
       "303        England  30.0          342   185      79     30             0.09   \n",
       "323        England  30.0          293   183      50      7             0.00   \n",
       "343      Argentina  32.0          263   177      44    180             0.68   \n",
       "198        England  31.0          346   176      93     75             0.22   \n",
       "..             ...   ...          ...   ...     ...    ...              ...   \n",
       "59         England  30.0            0     0       0      0             0.00   \n",
       "60         England  24.0            0     0       0      0             0.00   \n",
       "473          Spain  23.0            0     0       0      0             0.00   \n",
       "472  United States  22.0            0     0       0      0             0.00   \n",
       "569        Ecuador  20.0            0     0       0      0             0.00   \n",
       "\n",
       "     ...  Punches  High Claims  Catches  Sweeper clearances  Throw outs  \\\n",
       "301  ...      0.0          0.0      0.0                 0.0         0.0   \n",
       "303  ...      0.0          0.0      0.0                 0.0         0.0   \n",
       "323  ...      0.0          0.0      0.0                 0.0         0.0   \n",
       "343  ...      0.0          0.0      0.0                 0.0         0.0   \n",
       "198  ...      0.0          0.0      0.0                 0.0         0.0   \n",
       "..   ...      ...          ...      ...                 ...         ...   \n",
       "59   ...      0.0          0.0      0.0                 0.0         0.0   \n",
       "60   ...      0.0          0.0      0.0                 0.0         0.0   \n",
       "473  ...      0.0          0.0      0.0                 0.0         0.0   \n",
       "472  ...      0.0          0.0      0.0                 0.0         0.0   \n",
       "569  ...      0.0          0.0      0.0                 0.0         0.0   \n",
       "\n",
       "     Goal Kicks  Yellow cards  Red cards  Fouls  Offsides  \n",
       "301         0.0            65          3    438      45.0  \n",
       "303         0.0            34          2    299      29.0  \n",
       "323         0.0            45          1    239      22.0  \n",
       "343         0.0            23          1    167     194.0  \n",
       "198         0.0            10          0    101     163.0  \n",
       "..          ...           ...        ...    ...       ...  \n",
       "59          0.0             0          0      0       0.0  \n",
       "60          0.0             0          0      0       0.0  \n",
       "473         0.0             0          0      0       0.0  \n",
       "472         0.0             0          0      0       0.0  \n",
       "569         0.0             0          0      0       0.0  \n",
       "\n",
       "[570 rows x 58 columns]"
      ]
     },
     "execution_count": 68,
     "metadata": {},
     "output_type": "execute_result"
    }
   ],
   "source": [
    "df.sort_values('Wins',ascending=False)"
   ]
  },
  {
   "cell_type": "code",
   "execution_count": 69,
   "metadata": {},
   "outputs": [],
   "source": [
    "l=[];d=pd.DataFrame();l2=[];d2=pd.DataFrame();l3=[]\n",
    "for i in df['Club']:\n",
    "    l.append(df[df['Club']==i]['Wins'].sum());l2.append(i)\n",
    "    l3.append(df[df['Club']==i]['Losses'].sum())\n",
    "d['W']=l\n",
    "d['Cl']=l2\n",
    "d2['Cl']=l2\n",
    "d2['Lo']=l3"
   ]
  },
  {
   "cell_type": "code",
   "execution_count": 70,
   "metadata": {},
   "outputs": [],
   "source": [
    "df['Totalwins']=l\n",
    "df['Totallosses']=l3"
   ]
  },
  {
   "cell_type": "code",
   "execution_count": 71,
   "metadata": {},
   "outputs": [
    {
     "data": {
      "text/html": [
       "<div>\n",
       "<style scoped>\n",
       "    .dataframe tbody tr th:only-of-type {\n",
       "        vertical-align: middle;\n",
       "    }\n",
       "\n",
       "    .dataframe tbody tr th {\n",
       "        vertical-align: top;\n",
       "    }\n",
       "\n",
       "    .dataframe thead th {\n",
       "        text-align: right;\n",
       "    }\n",
       "</style>\n",
       "<table border=\"1\" class=\"dataframe\">\n",
       "  <thead>\n",
       "    <tr style=\"text-align: right;\">\n",
       "      <th></th>\n",
       "      <th>Name</th>\n",
       "      <th>Club</th>\n",
       "      <th>Position</th>\n",
       "      <th>Nationality</th>\n",
       "      <th>Age</th>\n",
       "      <th>Appearances</th>\n",
       "      <th>Wins</th>\n",
       "      <th>Losses</th>\n",
       "      <th>Goals</th>\n",
       "      <th>Goals per match</th>\n",
       "      <th>...</th>\n",
       "      <th>Catches</th>\n",
       "      <th>Sweeper clearances</th>\n",
       "      <th>Throw outs</th>\n",
       "      <th>Goal Kicks</th>\n",
       "      <th>Yellow cards</th>\n",
       "      <th>Red cards</th>\n",
       "      <th>Fouls</th>\n",
       "      <th>Offsides</th>\n",
       "      <th>Totalwins</th>\n",
       "      <th>Totallosses</th>\n",
       "    </tr>\n",
       "  </thead>\n",
       "  <tbody>\n",
       "    <tr>\n",
       "      <th>0</th>\n",
       "      <td>Bernd Leno</td>\n",
       "      <td>Arsenal</td>\n",
       "      <td>Goalkeeper</td>\n",
       "      <td>Germany</td>\n",
       "      <td>28.0</td>\n",
       "      <td>64</td>\n",
       "      <td>28</td>\n",
       "      <td>16</td>\n",
       "      <td>0</td>\n",
       "      <td>0.0</td>\n",
       "      <td>...</td>\n",
       "      <td>17.0</td>\n",
       "      <td>28.0</td>\n",
       "      <td>375.0</td>\n",
       "      <td>489.0</td>\n",
       "      <td>2</td>\n",
       "      <td>0</td>\n",
       "      <td>0</td>\n",
       "      <td>0.0</td>\n",
       "      <td>1005</td>\n",
       "      <td>502</td>\n",
       "    </tr>\n",
       "    <tr>\n",
       "      <th>1</th>\n",
       "      <td>Matt Macey</td>\n",
       "      <td>Arsenal</td>\n",
       "      <td>Goalkeeper</td>\n",
       "      <td>England</td>\n",
       "      <td>26.0</td>\n",
       "      <td>0</td>\n",
       "      <td>0</td>\n",
       "      <td>0</td>\n",
       "      <td>0</td>\n",
       "      <td>0.0</td>\n",
       "      <td>...</td>\n",
       "      <td>0.0</td>\n",
       "      <td>0.0</td>\n",
       "      <td>0.0</td>\n",
       "      <td>0.0</td>\n",
       "      <td>0</td>\n",
       "      <td>0</td>\n",
       "      <td>0</td>\n",
       "      <td>0.0</td>\n",
       "      <td>1005</td>\n",
       "      <td>502</td>\n",
       "    </tr>\n",
       "    <tr>\n",
       "      <th>2</th>\n",
       "      <td>Rúnar Alex Rúnarsson</td>\n",
       "      <td>Arsenal</td>\n",
       "      <td>Goalkeeper</td>\n",
       "      <td>Iceland</td>\n",
       "      <td>25.0</td>\n",
       "      <td>0</td>\n",
       "      <td>0</td>\n",
       "      <td>0</td>\n",
       "      <td>0</td>\n",
       "      <td>0.0</td>\n",
       "      <td>...</td>\n",
       "      <td>0.0</td>\n",
       "      <td>0.0</td>\n",
       "      <td>0.0</td>\n",
       "      <td>0.0</td>\n",
       "      <td>0</td>\n",
       "      <td>0</td>\n",
       "      <td>0</td>\n",
       "      <td>0.0</td>\n",
       "      <td>1005</td>\n",
       "      <td>502</td>\n",
       "    </tr>\n",
       "    <tr>\n",
       "      <th>3</th>\n",
       "      <td>Héctor Bellerín</td>\n",
       "      <td>Arsenal</td>\n",
       "      <td>Defender</td>\n",
       "      <td>Spain</td>\n",
       "      <td>25.0</td>\n",
       "      <td>160</td>\n",
       "      <td>90</td>\n",
       "      <td>37</td>\n",
       "      <td>7</td>\n",
       "      <td>0.0</td>\n",
       "      <td>...</td>\n",
       "      <td>0.0</td>\n",
       "      <td>0.0</td>\n",
       "      <td>0.0</td>\n",
       "      <td>0.0</td>\n",
       "      <td>23</td>\n",
       "      <td>0</td>\n",
       "      <td>125</td>\n",
       "      <td>8.0</td>\n",
       "      <td>1005</td>\n",
       "      <td>502</td>\n",
       "    </tr>\n",
       "    <tr>\n",
       "      <th>4</th>\n",
       "      <td>Kieran Tierney</td>\n",
       "      <td>Arsenal</td>\n",
       "      <td>Defender</td>\n",
       "      <td>Scotland</td>\n",
       "      <td>23.0</td>\n",
       "      <td>16</td>\n",
       "      <td>7</td>\n",
       "      <td>5</td>\n",
       "      <td>1</td>\n",
       "      <td>0.0</td>\n",
       "      <td>...</td>\n",
       "      <td>0.0</td>\n",
       "      <td>0.0</td>\n",
       "      <td>0.0</td>\n",
       "      <td>0.0</td>\n",
       "      <td>2</td>\n",
       "      <td>0</td>\n",
       "      <td>9</td>\n",
       "      <td>0.0</td>\n",
       "      <td>1005</td>\n",
       "      <td>502</td>\n",
       "    </tr>\n",
       "  </tbody>\n",
       "</table>\n",
       "<p>5 rows × 60 columns</p>\n",
       "</div>"
      ],
      "text/plain": [
       "                   Name     Club    Position Nationality   Age  Appearances  \\\n",
       "0            Bernd Leno  Arsenal  Goalkeeper     Germany  28.0           64   \n",
       "1            Matt Macey  Arsenal  Goalkeeper     England  26.0            0   \n",
       "2  Rúnar Alex Rúnarsson  Arsenal  Goalkeeper     Iceland  25.0            0   \n",
       "3       Héctor Bellerín  Arsenal    Defender       Spain  25.0          160   \n",
       "4        Kieran Tierney  Arsenal    Defender    Scotland  23.0           16   \n",
       "\n",
       "   Wins  Losses  Goals  Goals per match  ...  Catches  Sweeper clearances  \\\n",
       "0    28      16      0              0.0  ...     17.0                28.0   \n",
       "1     0       0      0              0.0  ...      0.0                 0.0   \n",
       "2     0       0      0              0.0  ...      0.0                 0.0   \n",
       "3    90      37      7              0.0  ...      0.0                 0.0   \n",
       "4     7       5      1              0.0  ...      0.0                 0.0   \n",
       "\n",
       "   Throw outs  Goal Kicks  Yellow cards  Red cards  Fouls  Offsides  \\\n",
       "0       375.0       489.0             2          0      0       0.0   \n",
       "1         0.0         0.0             0          0      0       0.0   \n",
       "2         0.0         0.0             0          0      0       0.0   \n",
       "3         0.0         0.0            23          0    125       8.0   \n",
       "4         0.0         0.0             2          0      9       0.0   \n",
       "\n",
       "   Totalwins  Totallosses  \n",
       "0       1005          502  \n",
       "1       1005          502  \n",
       "2       1005          502  \n",
       "3       1005          502  \n",
       "4       1005          502  \n",
       "\n",
       "[5 rows x 60 columns]"
      ]
     },
     "execution_count": 71,
     "metadata": {},
     "output_type": "execute_result"
    }
   ],
   "source": [
    "df.head()"
   ]
  },
  {
   "cell_type": "code",
   "execution_count": 72,
   "metadata": {},
   "outputs": [],
   "source": [
    "d.drop_duplicates(inplace=True)\n",
    "d2.drop_duplicates(inplace=True)"
   ]
  },
  {
   "cell_type": "code",
   "execution_count": 73,
   "metadata": {},
   "outputs": [
    {
     "data": {
      "text/html": [
       "<div>\n",
       "<style scoped>\n",
       "    .dataframe tbody tr th:only-of-type {\n",
       "        vertical-align: middle;\n",
       "    }\n",
       "\n",
       "    .dataframe tbody tr th {\n",
       "        vertical-align: top;\n",
       "    }\n",
       "\n",
       "    .dataframe thead th {\n",
       "        text-align: right;\n",
       "    }\n",
       "</style>\n",
       "<table border=\"1\" class=\"dataframe\">\n",
       "  <thead>\n",
       "    <tr style=\"text-align: right;\">\n",
       "      <th></th>\n",
       "      <th>W</th>\n",
       "      <th>Cl</th>\n",
       "    </tr>\n",
       "  </thead>\n",
       "  <tbody>\n",
       "    <tr>\n",
       "      <th>0</th>\n",
       "      <td>1005</td>\n",
       "      <td>Arsenal</td>\n",
       "    </tr>\n",
       "    <tr>\n",
       "      <th>30</th>\n",
       "      <td>283</td>\n",
       "      <td>Aston-Villa</td>\n",
       "    </tr>\n",
       "    <tr>\n",
       "      <th>58</th>\n",
       "      <td>348</td>\n",
       "      <td>Brighton-and-Hove-Albion</td>\n",
       "    </tr>\n",
       "    <tr>\n",
       "      <th>91</th>\n",
       "      <td>765</td>\n",
       "      <td>Burnley</td>\n",
       "    </tr>\n",
       "    <tr>\n",
       "      <th>115</th>\n",
       "      <td>1023</td>\n",
       "      <td>Chelsea</td>\n",
       "    </tr>\n",
       "  </tbody>\n",
       "</table>\n",
       "</div>"
      ],
      "text/plain": [
       "        W                        Cl\n",
       "0    1005                   Arsenal\n",
       "30    283               Aston-Villa\n",
       "58    348  Brighton-and-Hove-Albion\n",
       "91    765                   Burnley\n",
       "115  1023                   Chelsea"
      ]
     },
     "execution_count": 73,
     "metadata": {},
     "output_type": "execute_result"
    }
   ],
   "source": [
    "d.head()"
   ]
  },
  {
   "cell_type": "code",
   "execution_count": 74,
   "metadata": {},
   "outputs": [
    {
     "data": {
      "text/html": [
       "<div>\n",
       "<style scoped>\n",
       "    .dataframe tbody tr th:only-of-type {\n",
       "        vertical-align: middle;\n",
       "    }\n",
       "\n",
       "    .dataframe tbody tr th {\n",
       "        vertical-align: top;\n",
       "    }\n",
       "\n",
       "    .dataframe thead th {\n",
       "        text-align: right;\n",
       "    }\n",
       "</style>\n",
       "<table border=\"1\" class=\"dataframe\">\n",
       "  <thead>\n",
       "    <tr style=\"text-align: right;\">\n",
       "      <th></th>\n",
       "      <th>Cl</th>\n",
       "      <th>Lo</th>\n",
       "    </tr>\n",
       "  </thead>\n",
       "  <tbody>\n",
       "    <tr>\n",
       "      <th>0</th>\n",
       "      <td>Arsenal</td>\n",
       "      <td>502</td>\n",
       "    </tr>\n",
       "    <tr>\n",
       "      <th>30</th>\n",
       "      <td>Aston-Villa</td>\n",
       "      <td>507</td>\n",
       "    </tr>\n",
       "    <tr>\n",
       "      <th>58</th>\n",
       "      <td>Brighton-and-Hove-Albion</td>\n",
       "      <td>503</td>\n",
       "    </tr>\n",
       "    <tr>\n",
       "      <th>91</th>\n",
       "      <td>Burnley</td>\n",
       "      <td>1068</td>\n",
       "    </tr>\n",
       "    <tr>\n",
       "      <th>115</th>\n",
       "      <td>Chelsea</td>\n",
       "      <td>535</td>\n",
       "    </tr>\n",
       "  </tbody>\n",
       "</table>\n",
       "</div>"
      ],
      "text/plain": [
       "                           Cl    Lo\n",
       "0                     Arsenal   502\n",
       "30                Aston-Villa   507\n",
       "58   Brighton-and-Hove-Albion   503\n",
       "91                    Burnley  1068\n",
       "115                   Chelsea   535"
      ]
     },
     "execution_count": 74,
     "metadata": {},
     "output_type": "execute_result"
    }
   ],
   "source": [
    "d2.head()"
   ]
  },
  {
   "cell_type": "code",
   "execution_count": 75,
   "metadata": {},
   "outputs": [
    {
     "data": {
      "text/plain": [
       "Text(0.5, 1.0, 'Coun of Total Wins')"
      ]
     },
     "execution_count": 75,
     "metadata": {},
     "output_type": "execute_result"
    },
    {
     "data": {
      "image/png": "[encoded data removed]",
      "text/plain": [
       "<Figure size 1152x1152 with 1 Axes>"
      ]
     },
     "metadata": {
      "needs_background": "light"
     },
     "output_type": "display_data"
    }
   ],
   "source": [
    "plt.figure(figsize=(16,16))\n",
    "sns.barplot(y='Cl',x='W',data=d)\n",
    "plt.title('Coun of Total Wins')"
   ]
  },
  {
   "cell_type": "code",
   "execution_count": 76,
   "metadata": {},
   "outputs": [
    {
     "data": {
      "text/html": [
       "<div>\n",
       "<style scoped>\n",
       "    .dataframe tbody tr th:only-of-type {\n",
       "        vertical-align: middle;\n",
       "    }\n",
       "\n",
       "    .dataframe tbody tr th {\n",
       "        vertical-align: top;\n",
       "    }\n",
       "\n",
       "    .dataframe thead th {\n",
       "        text-align: right;\n",
       "    }\n",
       "</style>\n",
       "<table border=\"1\" class=\"dataframe\">\n",
       "  <thead>\n",
       "    <tr style=\"text-align: right;\">\n",
       "      <th></th>\n",
       "      <th>W</th>\n",
       "      <th>Cl</th>\n",
       "    </tr>\n",
       "  </thead>\n",
       "  <tbody>\n",
       "    <tr>\n",
       "      <th>285</th>\n",
       "      <td>1755</td>\n",
       "      <td>Liverpool</td>\n",
       "    </tr>\n",
       "  </tbody>\n",
       "</table>\n",
       "</div>"
      ],
      "text/plain": [
       "        W         Cl\n",
       "285  1755  Liverpool"
      ]
     },
     "execution_count": 76,
     "metadata": {},
     "output_type": "execute_result"
    }
   ],
   "source": [
    "#Top Winners for Clubs\n",
    "d.sort_values('W',ascending=False).head(1)"
   ]
  },
  {
   "cell_type": "code",
   "execution_count": 77,
   "metadata": {},
   "outputs": [
    {
     "data": {
      "text/plain": [
       "Text(0.5, 1.0, 'Coun of Total Losses')"
      ]
     },
     "execution_count": 77,
     "metadata": {},
     "output_type": "execute_result"
    },
    {
     "data": {
      "image/png": "[encoded data removed]",
      "text/plain": [
       "<Figure size 1152x1152 with 1 Axes>"
      ]
     },
     "metadata": {
      "needs_background": "light"
     },
     "output_type": "display_data"
    }
   ],
   "source": [
    "plt.figure(figsize=(16,16))\n",
    "sns.barplot(y='Cl',x='Lo',data=d2)\n",
    "plt.title('Coun of Total Losses')"
   ]
  },
  {
   "cell_type": "code",
   "execution_count": 78,
   "metadata": {},
   "outputs": [
    {
     "data": {
      "text/html": [
       "<div>\n",
       "<style scoped>\n",
       "    .dataframe tbody tr th:only-of-type {\n",
       "        vertical-align: middle;\n",
       "    }\n",
       "\n",
       "    .dataframe tbody tr th {\n",
       "        vertical-align: top;\n",
       "    }\n",
       "\n",
       "    .dataframe thead th {\n",
       "        text-align: right;\n",
       "    }\n",
       "</style>\n",
       "<table border=\"1\" class=\"dataframe\">\n",
       "  <thead>\n",
       "    <tr style=\"text-align: right;\">\n",
       "      <th></th>\n",
       "      <th>Cl</th>\n",
       "      <th>Lo</th>\n",
       "    </tr>\n",
       "  </thead>\n",
       "  <tbody>\n",
       "    <tr>\n",
       "      <th>142</th>\n",
       "      <td>Crystal-Palace</td>\n",
       "      <td>1640</td>\n",
       "    </tr>\n",
       "  </tbody>\n",
       "</table>\n",
       "</div>"
      ],
      "text/plain": [
       "                 Cl    Lo\n",
       "142  Crystal-Palace  1640"
      ]
     },
     "execution_count": 78,
     "metadata": {},
     "output_type": "execute_result"
    }
   ],
   "source": [
    "#Most Losses for Clubs\n",
    "d2.sort_values('Lo',ascending=False).head(1)"
   ]
  },
  {
   "cell_type": "code",
   "execution_count": 79,
   "metadata": {},
   "outputs": [],
   "source": [
    "top_players=pd.DataFrame();l=[];l2=[]\n",
    "for i in df['Club']: \n",
    "    l.append(df.sort_values('Wins',ascending=False)[df['Club']==i]['Name'].head(1).values[0])\n",
    "    l2.append(df.sort_values('Wins',ascending=False)[df['Club']==i]['Wins'].head(1).values[0])\n",
    "top_players['N']=l\n",
    "top_players['Wi']=l2\n"
   ]
  },
  {
   "cell_type": "code",
   "execution_count": 80,
   "metadata": {},
   "outputs": [],
   "source": [
    "top_players.drop_duplicates(inplace=True)"
   ]
  },
  {
   "cell_type": "code",
   "execution_count": 141,
   "metadata": {},
   "outputs": [
    {
     "data": {
      "text/plain": [
       "Text(0.5, 1.0, 'Top Players')"
      ]
     },
     "execution_count": 141,
     "metadata": {},
     "output_type": "execute_result"
    },
    {
     "data": {
      "image/png": "[encoded data removed]",
      "text/plain": [
       "<Figure size 1152x1152 with 1 Axes>"
      ]
     },
     "metadata": {
      "needs_background": "light"
     },
     "output_type": "display_data"
    }
   ],
   "source": [
    "plt.figure(figsize=(16,16))\n",
    "sns.barplot(y='N',x='Wi',data=top_players)\n",
    "plt.xlabel('Wins');plt.ylabel('Name')\n",
    "plt.title('Top Players')"
   ]
  },
  {
   "cell_type": "code",
   "execution_count": 82,
   "metadata": {},
   "outputs": [
    {
     "data": {
      "text/html": [
       "<div>\n",
       "<style scoped>\n",
       "    .dataframe tbody tr th:only-of-type {\n",
       "        vertical-align: middle;\n",
       "    }\n",
       "\n",
       "    .dataframe tbody tr th {\n",
       "        vertical-align: top;\n",
       "    }\n",
       "\n",
       "    .dataframe thead th {\n",
       "        text-align: right;\n",
       "    }\n",
       "</style>\n",
       "<table border=\"1\" class=\"dataframe\">\n",
       "  <thead>\n",
       "    <tr style=\"text-align: right;\">\n",
       "      <th></th>\n",
       "      <th>N</th>\n",
       "      <th>Wi</th>\n",
       "    </tr>\n",
       "  </thead>\n",
       "  <tbody>\n",
       "    <tr>\n",
       "      <th>285</th>\n",
       "      <td>James Milner</td>\n",
       "      <td>272</td>\n",
       "    </tr>\n",
       "  </tbody>\n",
       "</table>\n",
       "</div>"
      ],
      "text/plain": [
       "                N   Wi\n",
       "285  James Milner  272"
      ]
     },
     "execution_count": 82,
     "metadata": {},
     "output_type": "execute_result"
    }
   ],
   "source": [
    "#Top Winners for Players\n",
    "top_players.sort_values('Wi',ascending=False).head(1)"
   ]
  },
  {
   "cell_type": "code",
   "execution_count": 83,
   "metadata": {},
   "outputs": [],
   "source": [
    "Most_losses=pd.DataFrame();l=[];l2=[]\n",
    "for i in df['Club']: \n",
    "    l.append(df.sort_values('Losses',ascending=False)[df['Club']==i]['Name'].head(1).values[0])\n",
    "    l2.append(df.sort_values('Losses',ascending=False)[df['Club']==i]['Losses'].head(1).values[0])\n",
    "Most_losses['N']=l\n",
    "Most_losses['Lo']=l2\n"
   ]
  },
  {
   "cell_type": "code",
   "execution_count": 84,
   "metadata": {},
   "outputs": [],
   "source": [
    "Most_losses.drop_duplicates(inplace=True)"
   ]
  },
  {
   "cell_type": "code",
   "execution_count": 112,
   "metadata": {},
   "outputs": [
    {
     "data": {
      "text/plain": [
       "Text(0.5, 1.0, 'Most Losses')"
      ]
     },
     "execution_count": 112,
     "metadata": {},
     "output_type": "execute_result"
    },
    {
     "data": {
      "image/png": "[encoded data removed]",
      "text/plain": [
       "<Figure size 1152x1152 with 1 Axes>"
      ]
     },
     "metadata": {
      "needs_background": "light"
     },
     "output_type": "display_data"
    }
   ],
   "source": [
    "plt.figure(figsize=(16,16))\n",
    "sns.barplot(y='N',x='Lo',data=Most_losses)\n",
    "plt.xlabel('Losses');plt.ylabel('Name')\n",
    "plt.title('Most Losses')"
   ]
  },
  {
   "cell_type": "code",
   "execution_count": 86,
   "metadata": {},
   "outputs": [
    {
     "data": {
      "text/html": [
       "<div>\n",
       "<style scoped>\n",
       "    .dataframe tbody tr th:only-of-type {\n",
       "        vertical-align: middle;\n",
       "    }\n",
       "\n",
       "    .dataframe tbody tr th {\n",
       "        vertical-align: top;\n",
       "    }\n",
       "\n",
       "    .dataframe thead th {\n",
       "        text-align: right;\n",
       "    }\n",
       "</style>\n",
       "<table border=\"1\" class=\"dataframe\">\n",
       "  <thead>\n",
       "    <tr style=\"text-align: right;\">\n",
       "      <th></th>\n",
       "      <th>N</th>\n",
       "      <th>Lo</th>\n",
       "    </tr>\n",
       "  </thead>\n",
       "  <tbody>\n",
       "    <tr>\n",
       "      <th>519</th>\n",
       "      <td>Mark Noble</td>\n",
       "      <td>158</td>\n",
       "    </tr>\n",
       "  </tbody>\n",
       "</table>\n",
       "</div>"
      ],
      "text/plain": [
       "              N   Lo\n",
       "519  Mark Noble  158"
      ]
     },
     "execution_count": 86,
     "metadata": {},
     "output_type": "execute_result"
    }
   ],
   "source": [
    "#Most Losses for Players\n",
    "Most_losses.sort_values('Lo',ascending=False).head(1)"
   ]
  },
  {
   "cell_type": "code",
   "execution_count": 104,
   "metadata": {},
   "outputs": [
    {
     "data": {
      "text/html": [
       "<div>\n",
       "<style scoped>\n",
       "    .dataframe tbody tr th:only-of-type {\n",
       "        vertical-align: middle;\n",
       "    }\n",
       "\n",
       "    .dataframe tbody tr th {\n",
       "        vertical-align: top;\n",
       "    }\n",
       "\n",
       "    .dataframe thead th {\n",
       "        text-align: right;\n",
       "    }\n",
       "</style>\n",
       "<table border=\"1\" class=\"dataframe\">\n",
       "  <thead>\n",
       "    <tr style=\"text-align: right;\">\n",
       "      <th></th>\n",
       "      <th>Name</th>\n",
       "      <th>Club</th>\n",
       "      <th>Position</th>\n",
       "      <th>Nationality</th>\n",
       "      <th>Age</th>\n",
       "      <th>Appearances</th>\n",
       "      <th>Wins</th>\n",
       "      <th>Losses</th>\n",
       "      <th>Goals</th>\n",
       "      <th>Goals per match</th>\n",
       "      <th>...</th>\n",
       "      <th>Catches</th>\n",
       "      <th>Sweeper clearances</th>\n",
       "      <th>Throw outs</th>\n",
       "      <th>Goal Kicks</th>\n",
       "      <th>Yellow cards</th>\n",
       "      <th>Red cards</th>\n",
       "      <th>Fouls</th>\n",
       "      <th>Offsides</th>\n",
       "      <th>Totalwins</th>\n",
       "      <th>Totallosses</th>\n",
       "    </tr>\n",
       "  </thead>\n",
       "  <tbody>\n",
       "    <tr>\n",
       "      <th>343</th>\n",
       "      <td>Sergio Agüero</td>\n",
       "      <td>Manchester-City</td>\n",
       "      <td>Forward</td>\n",
       "      <td>Argentina</td>\n",
       "      <td>32.0</td>\n",
       "      <td>263</td>\n",
       "      <td>177</td>\n",
       "      <td>44</td>\n",
       "      <td>180</td>\n",
       "      <td>0.68</td>\n",
       "      <td>...</td>\n",
       "      <td>0.0</td>\n",
       "      <td>0.0</td>\n",
       "      <td>0.0</td>\n",
       "      <td>0.0</td>\n",
       "      <td>23</td>\n",
       "      <td>1</td>\n",
       "      <td>167</td>\n",
       "      <td>194.0</td>\n",
       "      <td>1688</td>\n",
       "      <td>555</td>\n",
       "    </tr>\n",
       "    <tr>\n",
       "      <th>488</th>\n",
       "      <td>Harry Kane</td>\n",
       "      <td>Tottenham-Hotspur</td>\n",
       "      <td>Forward</td>\n",
       "      <td>England</td>\n",
       "      <td>27.0</td>\n",
       "      <td>212</td>\n",
       "      <td>120</td>\n",
       "      <td>48</td>\n",
       "      <td>144</td>\n",
       "      <td>0.68</td>\n",
       "      <td>...</td>\n",
       "      <td>0.0</td>\n",
       "      <td>0.0</td>\n",
       "      <td>0.0</td>\n",
       "      <td>0.0</td>\n",
       "      <td>26</td>\n",
       "      <td>0</td>\n",
       "      <td>208</td>\n",
       "      <td>160.0</td>\n",
       "      <td>1476</td>\n",
       "      <td>798</td>\n",
       "    </tr>\n",
       "    <tr>\n",
       "      <th>280</th>\n",
       "      <td>Jamie Vardy</td>\n",
       "      <td>Leicester-City</td>\n",
       "      <td>Forward</td>\n",
       "      <td>England</td>\n",
       "      <td>33.0</td>\n",
       "      <td>213</td>\n",
       "      <td>86</td>\n",
       "      <td>77</td>\n",
       "      <td>105</td>\n",
       "      <td>0.49</td>\n",
       "      <td>...</td>\n",
       "      <td>0.0</td>\n",
       "      <td>0.0</td>\n",
       "      <td>0.0</td>\n",
       "      <td>0.0</td>\n",
       "      <td>20</td>\n",
       "      <td>3</td>\n",
       "      <td>179</td>\n",
       "      <td>195.0</td>\n",
       "      <td>992</td>\n",
       "      <td>878</td>\n",
       "    </tr>\n",
       "    <tr>\n",
       "      <th>140</th>\n",
       "      <td>Olivier Giroud</td>\n",
       "      <td>Chelsea</td>\n",
       "      <td>Forward</td>\n",
       "      <td>France</td>\n",
       "      <td>33.0</td>\n",
       "      <td>238</td>\n",
       "      <td>133</td>\n",
       "      <td>56</td>\n",
       "      <td>86</td>\n",
       "      <td>0.36</td>\n",
       "      <td>...</td>\n",
       "      <td>0.0</td>\n",
       "      <td>0.0</td>\n",
       "      <td>0.0</td>\n",
       "      <td>0.0</td>\n",
       "      <td>18</td>\n",
       "      <td>2</td>\n",
       "      <td>223</td>\n",
       "      <td>120.0</td>\n",
       "      <td>1023</td>\n",
       "      <td>535</td>\n",
       "    </tr>\n",
       "    <tr>\n",
       "      <th>341</th>\n",
       "      <td>Raheem Sterling</td>\n",
       "      <td>Manchester-City</td>\n",
       "      <td>Forward</td>\n",
       "      <td>England</td>\n",
       "      <td>25.0</td>\n",
       "      <td>260</td>\n",
       "      <td>161</td>\n",
       "      <td>55</td>\n",
       "      <td>86</td>\n",
       "      <td>0.33</td>\n",
       "      <td>...</td>\n",
       "      <td>0.0</td>\n",
       "      <td>0.0</td>\n",
       "      <td>0.0</td>\n",
       "      <td>0.0</td>\n",
       "      <td>28</td>\n",
       "      <td>1</td>\n",
       "      <td>297</td>\n",
       "      <td>95.0</td>\n",
       "      <td>1688</td>\n",
       "      <td>555</td>\n",
       "    </tr>\n",
       "    <tr>\n",
       "      <th>312</th>\n",
       "      <td>Sadio Mané</td>\n",
       "      <td>Liverpool</td>\n",
       "      <td>Forward</td>\n",
       "      <td>Senegal</td>\n",
       "      <td>28.0</td>\n",
       "      <td>196</td>\n",
       "      <td>121</td>\n",
       "      <td>35</td>\n",
       "      <td>86</td>\n",
       "      <td>0.44</td>\n",
       "      <td>...</td>\n",
       "      <td>0.0</td>\n",
       "      <td>0.0</td>\n",
       "      <td>0.0</td>\n",
       "      <td>0.0</td>\n",
       "      <td>21</td>\n",
       "      <td>3</td>\n",
       "      <td>215</td>\n",
       "      <td>117.0</td>\n",
       "      <td>1755</td>\n",
       "      <td>599</td>\n",
       "    </tr>\n",
       "    <tr>\n",
       "      <th>313</th>\n",
       "      <td>Mohamed Salah</td>\n",
       "      <td>Liverpool</td>\n",
       "      <td>Forward</td>\n",
       "      <td>Egypt</td>\n",
       "      <td>28.0</td>\n",
       "      <td>123</td>\n",
       "      <td>90</td>\n",
       "      <td>12</td>\n",
       "      <td>78</td>\n",
       "      <td>0.63</td>\n",
       "      <td>...</td>\n",
       "      <td>0.0</td>\n",
       "      <td>0.0</td>\n",
       "      <td>0.0</td>\n",
       "      <td>0.0</td>\n",
       "      <td>4</td>\n",
       "      <td>0</td>\n",
       "      <td>63</td>\n",
       "      <td>65.0</td>\n",
       "      <td>1755</td>\n",
       "      <td>599</td>\n",
       "    </tr>\n",
       "    <tr>\n",
       "      <th>198</th>\n",
       "      <td>Theo Walcott</td>\n",
       "      <td>Everton</td>\n",
       "      <td>Forward</td>\n",
       "      <td>England</td>\n",
       "      <td>31.0</td>\n",
       "      <td>346</td>\n",
       "      <td>176</td>\n",
       "      <td>93</td>\n",
       "      <td>75</td>\n",
       "      <td>0.22</td>\n",
       "      <td>...</td>\n",
       "      <td>0.0</td>\n",
       "      <td>0.0</td>\n",
       "      <td>0.0</td>\n",
       "      <td>0.0</td>\n",
       "      <td>10</td>\n",
       "      <td>0</td>\n",
       "      <td>101</td>\n",
       "      <td>163.0</td>\n",
       "      <td>1035</td>\n",
       "      <td>986</td>\n",
       "    </tr>\n",
       "    <tr>\n",
       "      <th>169</th>\n",
       "      <td>Christian Benteke</td>\n",
       "      <td>Crystal-Palace</td>\n",
       "      <td>Forward</td>\n",
       "      <td>Belgium</td>\n",
       "      <td>29.0</td>\n",
       "      <td>225</td>\n",
       "      <td>73</td>\n",
       "      <td>107</td>\n",
       "      <td>72</td>\n",
       "      <td>0.32</td>\n",
       "      <td>...</td>\n",
       "      <td>0.0</td>\n",
       "      <td>0.0</td>\n",
       "      <td>0.0</td>\n",
       "      <td>0.0</td>\n",
       "      <td>35</td>\n",
       "      <td>3</td>\n",
       "      <td>357</td>\n",
       "      <td>203.0</td>\n",
       "      <td>1312</td>\n",
       "      <td>1640</td>\n",
       "    </tr>\n",
       "    <tr>\n",
       "      <th>185</th>\n",
       "      <td>Gylfi Sigurdsson</td>\n",
       "      <td>Everton</td>\n",
       "      <td>Midfielder</td>\n",
       "      <td>Iceland</td>\n",
       "      <td>31.0</td>\n",
       "      <td>284</td>\n",
       "      <td>114</td>\n",
       "      <td>110</td>\n",
       "      <td>61</td>\n",
       "      <td>0.21</td>\n",
       "      <td>...</td>\n",
       "      <td>0.0</td>\n",
       "      <td>0.0</td>\n",
       "      <td>0.0</td>\n",
       "      <td>0.0</td>\n",
       "      <td>20</td>\n",
       "      <td>0</td>\n",
       "      <td>193</td>\n",
       "      <td>16.0</td>\n",
       "      <td>1035</td>\n",
       "      <td>986</td>\n",
       "    </tr>\n",
       "  </tbody>\n",
       "</table>\n",
       "<p>10 rows × 60 columns</p>\n",
       "</div>"
      ],
      "text/plain": [
       "                  Name               Club    Position Nationality   Age  \\\n",
       "343      Sergio Agüero    Manchester-City     Forward   Argentina  32.0   \n",
       "488         Harry Kane  Tottenham-Hotspur     Forward     England  27.0   \n",
       "280        Jamie Vardy     Leicester-City     Forward     England  33.0   \n",
       "140     Olivier Giroud            Chelsea     Forward      France  33.0   \n",
       "341    Raheem Sterling    Manchester-City     Forward     England  25.0   \n",
       "312         Sadio Mané          Liverpool     Forward     Senegal  28.0   \n",
       "313      Mohamed Salah          Liverpool     Forward       Egypt  28.0   \n",
       "198       Theo Walcott            Everton     Forward     England  31.0   \n",
       "169  Christian Benteke     Crystal-Palace     Forward     Belgium  29.0   \n",
       "185   Gylfi Sigurdsson            Everton  Midfielder     Iceland  31.0   \n",
       "\n",
       "     Appearances  Wins  Losses  Goals  Goals per match  ...  Catches  \\\n",
       "343          263   177      44    180             0.68  ...      0.0   \n",
       "488          212   120      48    144             0.68  ...      0.0   \n",
       "280          213    86      77    105             0.49  ...      0.0   \n",
       "140          238   133      56     86             0.36  ...      0.0   \n",
       "341          260   161      55     86             0.33  ...      0.0   \n",
       "312          196   121      35     86             0.44  ...      0.0   \n",
       "313          123    90      12     78             0.63  ...      0.0   \n",
       "198          346   176      93     75             0.22  ...      0.0   \n",
       "169          225    73     107     72             0.32  ...      0.0   \n",
       "185          284   114     110     61             0.21  ...      0.0   \n",
       "\n",
       "     Sweeper clearances  Throw outs  Goal Kicks  Yellow cards  Red cards  \\\n",
       "343                 0.0         0.0         0.0            23          1   \n",
       "488                 0.0         0.0         0.0            26          0   \n",
       "280                 0.0         0.0         0.0            20          3   \n",
       "140                 0.0         0.0         0.0            18          2   \n",
       "341                 0.0         0.0         0.0            28          1   \n",
       "312                 0.0         0.0         0.0            21          3   \n",
       "313                 0.0         0.0         0.0             4          0   \n",
       "198                 0.0         0.0         0.0            10          0   \n",
       "169                 0.0         0.0         0.0            35          3   \n",
       "185                 0.0         0.0         0.0            20          0   \n",
       "\n",
       "     Fouls  Offsides  Totalwins  Totallosses  \n",
       "343    167     194.0       1688          555  \n",
       "488    208     160.0       1476          798  \n",
       "280    179     195.0        992          878  \n",
       "140    223     120.0       1023          535  \n",
       "341    297      95.0       1688          555  \n",
       "312    215     117.0       1755          599  \n",
       "313     63      65.0       1755          599  \n",
       "198    101     163.0       1035          986  \n",
       "169    357     203.0       1312         1640  \n",
       "185    193      16.0       1035          986  \n",
       "\n",
       "[10 rows x 60 columns]"
      ]
     },
     "execution_count": 104,
     "metadata": {},
     "output_type": "execute_result"
    }
   ],
   "source": [
    "top_10=pd.DataFrame();top_10=df.sort_values('Goals',ascending=False).head(10)\n",
    "top_10"
   ]
  },
  {
   "cell_type": "code",
   "execution_count": 106,
   "metadata": {},
   "outputs": [
    {
     "data": {
      "text/plain": [
       "Text(0.5, 1.0, 'Top 10 Socrers')"
      ]
     },
     "execution_count": 106,
     "metadata": {},
     "output_type": "execute_result"
    },
    {
     "data": {
      "image/png": "[encoded data removed]",
      "text/plain": [
       "<Figure size 1152x1152 with 1 Axes>"
      ]
     },
     "metadata": {
      "needs_background": "light"
     },
     "output_type": "display_data"
    }
   ],
   "source": [
    "plt.figure(figsize=(16,16))\n",
    "sns.barplot(y='Name',x='Goals',data=top_10)\n",
    "plt.title('Top 10 Socrers')"
   ]
  },
  {
   "cell_type": "code",
   "execution_count": 147,
   "metadata": {},
   "outputs": [
    {
     "data": {
      "text/html": [
       "<div>\n",
       "<style scoped>\n",
       "    .dataframe tbody tr th:only-of-type {\n",
       "        vertical-align: middle;\n",
       "    }\n",
       "\n",
       "    .dataframe tbody tr th {\n",
       "        vertical-align: top;\n",
       "    }\n",
       "\n",
       "    .dataframe thead th {\n",
       "        text-align: right;\n",
       "    }\n",
       "</style>\n",
       "<table border=\"1\" class=\"dataframe\">\n",
       "  <thead>\n",
       "    <tr style=\"text-align: right;\">\n",
       "      <th></th>\n",
       "      <th>Name</th>\n",
       "      <th>Club</th>\n",
       "      <th>Position</th>\n",
       "      <th>Nationality</th>\n",
       "      <th>Age</th>\n",
       "      <th>Appearances</th>\n",
       "      <th>Wins</th>\n",
       "      <th>Losses</th>\n",
       "      <th>Goals</th>\n",
       "      <th>Goals per match</th>\n",
       "      <th>...</th>\n",
       "      <th>Catches</th>\n",
       "      <th>Sweeper clearances</th>\n",
       "      <th>Throw outs</th>\n",
       "      <th>Goal Kicks</th>\n",
       "      <th>Yellow cards</th>\n",
       "      <th>Red cards</th>\n",
       "      <th>Fouls</th>\n",
       "      <th>Offsides</th>\n",
       "      <th>Totalwins</th>\n",
       "      <th>Totallosses</th>\n",
       "    </tr>\n",
       "  </thead>\n",
       "  <tbody>\n",
       "    <tr>\n",
       "      <th>461</th>\n",
       "      <td>Joe Hart</td>\n",
       "      <td>Tottenham-Hotspur</td>\n",
       "      <td>Goalkeeper</td>\n",
       "      <td>England</td>\n",
       "      <td>33.0</td>\n",
       "      <td>340</td>\n",
       "      <td>169</td>\n",
       "      <td>97</td>\n",
       "      <td>0</td>\n",
       "      <td>0.0</td>\n",
       "      <td>...</td>\n",
       "      <td>249.0</td>\n",
       "      <td>180.0</td>\n",
       "      <td>1516.0</td>\n",
       "      <td>2806.0</td>\n",
       "      <td>7</td>\n",
       "      <td>0</td>\n",
       "      <td>6</td>\n",
       "      <td>0.0</td>\n",
       "      <td>1476</td>\n",
       "      <td>798</td>\n",
       "    </tr>\n",
       "    <tr>\n",
       "      <th>346</th>\n",
       "      <td>David de Gea</td>\n",
       "      <td>Manchester-United</td>\n",
       "      <td>Goalkeeper</td>\n",
       "      <td>Spain</td>\n",
       "      <td>29.0</td>\n",
       "      <td>314</td>\n",
       "      <td>174</td>\n",
       "      <td>66</td>\n",
       "      <td>0</td>\n",
       "      <td>0.0</td>\n",
       "      <td>...</td>\n",
       "      <td>107.0</td>\n",
       "      <td>87.0</td>\n",
       "      <td>1205.0</td>\n",
       "      <td>2452.0</td>\n",
       "      <td>6</td>\n",
       "      <td>0</td>\n",
       "      <td>1</td>\n",
       "      <td>0.0</td>\n",
       "      <td>1417</td>\n",
       "      <td>684</td>\n",
       "    </tr>\n",
       "    <tr>\n",
       "      <th>418</th>\n",
       "      <td>Phil Jagielka</td>\n",
       "      <td>Sheffield-United</td>\n",
       "      <td>Defender</td>\n",
       "      <td>England</td>\n",
       "      <td>38.0</td>\n",
       "      <td>366</td>\n",
       "      <td>147</td>\n",
       "      <td>111</td>\n",
       "      <td>18</td>\n",
       "      <td>0.0</td>\n",
       "      <td>...</td>\n",
       "      <td>0.0</td>\n",
       "      <td>0.0</td>\n",
       "      <td>0.0</td>\n",
       "      <td>0.0</td>\n",
       "      <td>23</td>\n",
       "      <td>2</td>\n",
       "      <td>159</td>\n",
       "      <td>3.0</td>\n",
       "      <td>401</td>\n",
       "      <td>430</td>\n",
       "    </tr>\n",
       "    <tr>\n",
       "      <th>151</th>\n",
       "      <td>Gary Cahill</td>\n",
       "      <td>Crystal-Palace</td>\n",
       "      <td>Defender</td>\n",
       "      <td>England</td>\n",
       "      <td>34.0</td>\n",
       "      <td>374</td>\n",
       "      <td>166</td>\n",
       "      <td>126</td>\n",
       "      <td>27</td>\n",
       "      <td>0.0</td>\n",
       "      <td>...</td>\n",
       "      <td>0.0</td>\n",
       "      <td>0.0</td>\n",
       "      <td>0.0</td>\n",
       "      <td>0.0</td>\n",
       "      <td>38</td>\n",
       "      <td>3</td>\n",
       "      <td>266</td>\n",
       "      <td>3.0</td>\n",
       "      <td>1312</td>\n",
       "      <td>1640</td>\n",
       "    </tr>\n",
       "    <tr>\n",
       "      <th>323</th>\n",
       "      <td>Kyle Walker</td>\n",
       "      <td>Manchester-City</td>\n",
       "      <td>Defender</td>\n",
       "      <td>England</td>\n",
       "      <td>30.0</td>\n",
       "      <td>293</td>\n",
       "      <td>183</td>\n",
       "      <td>50</td>\n",
       "      <td>7</td>\n",
       "      <td>0.0</td>\n",
       "      <td>...</td>\n",
       "      <td>0.0</td>\n",
       "      <td>0.0</td>\n",
       "      <td>0.0</td>\n",
       "      <td>0.0</td>\n",
       "      <td>45</td>\n",
       "      <td>1</td>\n",
       "      <td>239</td>\n",
       "      <td>22.0</td>\n",
       "      <td>1688</td>\n",
       "      <td>555</td>\n",
       "    </tr>\n",
       "    <tr>\n",
       "      <th>122</th>\n",
       "      <td>César Azpilicueta</td>\n",
       "      <td>Chelsea</td>\n",
       "      <td>Defender</td>\n",
       "      <td>Spain</td>\n",
       "      <td>31.0</td>\n",
       "      <td>272</td>\n",
       "      <td>158</td>\n",
       "      <td>56</td>\n",
       "      <td>8</td>\n",
       "      <td>0.0</td>\n",
       "      <td>...</td>\n",
       "      <td>0.0</td>\n",
       "      <td>0.0</td>\n",
       "      <td>0.0</td>\n",
       "      <td>0.0</td>\n",
       "      <td>23</td>\n",
       "      <td>1</td>\n",
       "      <td>240</td>\n",
       "      <td>10.0</td>\n",
       "      <td>1023</td>\n",
       "      <td>535</td>\n",
       "    </tr>\n",
       "    <tr>\n",
       "      <th>459</th>\n",
       "      <td>Hugo Lloris</td>\n",
       "      <td>Tottenham-Hotspur</td>\n",
       "      <td>Goalkeeper</td>\n",
       "      <td>France</td>\n",
       "      <td>33.0</td>\n",
       "      <td>262</td>\n",
       "      <td>153</td>\n",
       "      <td>56</td>\n",
       "      <td>0</td>\n",
       "      <td>0.0</td>\n",
       "      <td>...</td>\n",
       "      <td>96.0</td>\n",
       "      <td>257.0</td>\n",
       "      <td>1234.0</td>\n",
       "      <td>1888.0</td>\n",
       "      <td>3</td>\n",
       "      <td>0</td>\n",
       "      <td>3</td>\n",
       "      <td>0.0</td>\n",
       "      <td>1476</td>\n",
       "      <td>798</td>\n",
       "    </tr>\n",
       "    <tr>\n",
       "      <th>503</th>\n",
       "      <td>Branislav Ivanovic</td>\n",
       "      <td>West-Bromwich-Albion</td>\n",
       "      <td>Defender</td>\n",
       "      <td>Serbia</td>\n",
       "      <td>36.0</td>\n",
       "      <td>261</td>\n",
       "      <td>152</td>\n",
       "      <td>50</td>\n",
       "      <td>22</td>\n",
       "      <td>0.0</td>\n",
       "      <td>...</td>\n",
       "      <td>0.0</td>\n",
       "      <td>0.0</td>\n",
       "      <td>0.0</td>\n",
       "      <td>0.0</td>\n",
       "      <td>55</td>\n",
       "      <td>2</td>\n",
       "      <td>293</td>\n",
       "      <td>18.0</td>\n",
       "      <td>405</td>\n",
       "      <td>437</td>\n",
       "    </tr>\n",
       "    <tr>\n",
       "      <th>260</th>\n",
       "      <td>Jonny Evans</td>\n",
       "      <td>Leicester-City</td>\n",
       "      <td>Defender</td>\n",
       "      <td>Northern Ireland</td>\n",
       "      <td>32.0</td>\n",
       "      <td>297</td>\n",
       "      <td>145</td>\n",
       "      <td>86</td>\n",
       "      <td>11</td>\n",
       "      <td>0.0</td>\n",
       "      <td>...</td>\n",
       "      <td>0.0</td>\n",
       "      <td>0.0</td>\n",
       "      <td>0.0</td>\n",
       "      <td>0.0</td>\n",
       "      <td>44</td>\n",
       "      <td>3</td>\n",
       "      <td>239</td>\n",
       "      <td>3.0</td>\n",
       "      <td>992</td>\n",
       "      <td>878</td>\n",
       "    </tr>\n",
       "    <tr>\n",
       "      <th>180</th>\n",
       "      <td>Séamus Coleman</td>\n",
       "      <td>Everton</td>\n",
       "      <td>Defender</td>\n",
       "      <td>Ireland</td>\n",
       "      <td>31.0</td>\n",
       "      <td>276</td>\n",
       "      <td>114</td>\n",
       "      <td>79</td>\n",
       "      <td>20</td>\n",
       "      <td>0.0</td>\n",
       "      <td>...</td>\n",
       "      <td>0.0</td>\n",
       "      <td>0.0</td>\n",
       "      <td>0.0</td>\n",
       "      <td>0.0</td>\n",
       "      <td>29</td>\n",
       "      <td>2</td>\n",
       "      <td>194</td>\n",
       "      <td>29.0</td>\n",
       "      <td>1035</td>\n",
       "      <td>986</td>\n",
       "    </tr>\n",
       "  </tbody>\n",
       "</table>\n",
       "<p>10 rows × 60 columns</p>\n",
       "</div>"
      ],
      "text/plain": [
       "                   Name                  Club    Position       Nationality  \\\n",
       "461            Joe Hart     Tottenham-Hotspur  Goalkeeper           England   \n",
       "346        David de Gea     Manchester-United  Goalkeeper             Spain   \n",
       "418       Phil Jagielka      Sheffield-United    Defender           England   \n",
       "151         Gary Cahill        Crystal-Palace    Defender           England   \n",
       "323         Kyle Walker       Manchester-City    Defender           England   \n",
       "122   César Azpilicueta               Chelsea    Defender             Spain   \n",
       "459         Hugo Lloris     Tottenham-Hotspur  Goalkeeper            France   \n",
       "503  Branislav Ivanovic  West-Bromwich-Albion    Defender            Serbia   \n",
       "260         Jonny Evans        Leicester-City    Defender  Northern Ireland   \n",
       "180      Séamus Coleman               Everton    Defender           Ireland   \n",
       "\n",
       "      Age  Appearances  Wins  Losses  Goals  Goals per match  ...  Catches  \\\n",
       "461  33.0          340   169      97      0              0.0  ...    249.0   \n",
       "346  29.0          314   174      66      0              0.0  ...    107.0   \n",
       "418  38.0          366   147     111     18              0.0  ...      0.0   \n",
       "151  34.0          374   166     126     27              0.0  ...      0.0   \n",
       "323  30.0          293   183      50      7              0.0  ...      0.0   \n",
       "122  31.0          272   158      56      8              0.0  ...      0.0   \n",
       "459  33.0          262   153      56      0              0.0  ...     96.0   \n",
       "503  36.0          261   152      50     22              0.0  ...      0.0   \n",
       "260  32.0          297   145      86     11              0.0  ...      0.0   \n",
       "180  31.0          276   114      79     20              0.0  ...      0.0   \n",
       "\n",
       "     Sweeper clearances  Throw outs  Goal Kicks  Yellow cards  Red cards  \\\n",
       "461               180.0      1516.0      2806.0             7          0   \n",
       "346                87.0      1205.0      2452.0             6          0   \n",
       "418                 0.0         0.0         0.0            23          2   \n",
       "151                 0.0         0.0         0.0            38          3   \n",
       "323                 0.0         0.0         0.0            45          1   \n",
       "122                 0.0         0.0         0.0            23          1   \n",
       "459               257.0      1234.0      1888.0             3          0   \n",
       "503                 0.0         0.0         0.0            55          2   \n",
       "260                 0.0         0.0         0.0            44          3   \n",
       "180                 0.0         0.0         0.0            29          2   \n",
       "\n",
       "     Fouls  Offsides  Totalwins  Totallosses  \n",
       "461      6       0.0       1476          798  \n",
       "346      1       0.0       1417          684  \n",
       "418    159       3.0        401          430  \n",
       "151    266       3.0       1312         1640  \n",
       "323    239      22.0       1688          555  \n",
       "122    240      10.0       1023          535  \n",
       "459      3       0.0       1476          798  \n",
       "503    293      18.0        405          437  \n",
       "260    239       3.0        992          878  \n",
       "180    194      29.0       1035          986  \n",
       "\n",
       "[10 rows x 60 columns]"
      ]
     },
     "execution_count": 147,
     "metadata": {},
     "output_type": "execute_result"
    }
   ],
   "source": [
    "top_10_goalkeepers=pd.DataFrame();top_10_goalkeepers=df.sort_values('Clean sheets',ascending=False).head(10)\n",
    "top_10_goalkeepers"
   ]
  },
  {
   "cell_type": "code",
   "execution_count": 149,
   "metadata": {},
   "outputs": [
    {
     "data": {
      "text/plain": [
       "Text(0.5, 1.0, 'Top 10 Goalkeepers')"
      ]
     },
     "execution_count": 149,
     "metadata": {},
     "output_type": "execute_result"
    },
    {
     "data": {
      "image/png": "[encoded data removed]",
      "text/plain": [
       "<Figure size 1152x1152 with 1 Axes>"
      ]
     },
     "metadata": {
      "needs_background": "light"
     },
     "output_type": "display_data"
    }
   ],
   "source": [
    "plt.figure(figsize=(16,16))\n",
    "sns.barplot(y='Name',x='Clean sheets',data=top_10_goalkeepers)\n",
    "plt.title('Top 10 Goalkeepers')"
   ]
  },
  {
   "cell_type": "code",
   "execution_count": 150,
   "metadata": {},
   "outputs": [
    {
     "data": {
      "text/html": [
       "<div>\n",
       "<style scoped>\n",
       "    .dataframe tbody tr th:only-of-type {\n",
       "        vertical-align: middle;\n",
       "    }\n",
       "\n",
       "    .dataframe tbody tr th {\n",
       "        vertical-align: top;\n",
       "    }\n",
       "\n",
       "    .dataframe thead th {\n",
       "        text-align: right;\n",
       "    }\n",
       "</style>\n",
       "<table border=\"1\" class=\"dataframe\">\n",
       "  <thead>\n",
       "    <tr style=\"text-align: right;\">\n",
       "      <th></th>\n",
       "      <th>Name</th>\n",
       "      <th>Club</th>\n",
       "      <th>Position</th>\n",
       "      <th>Nationality</th>\n",
       "      <th>Age</th>\n",
       "      <th>Appearances</th>\n",
       "      <th>Wins</th>\n",
       "      <th>Losses</th>\n",
       "      <th>Goals</th>\n",
       "      <th>Goals per match</th>\n",
       "      <th>...</th>\n",
       "      <th>Catches</th>\n",
       "      <th>Sweeper clearances</th>\n",
       "      <th>Throw outs</th>\n",
       "      <th>Goal Kicks</th>\n",
       "      <th>Yellow cards</th>\n",
       "      <th>Red cards</th>\n",
       "      <th>Fouls</th>\n",
       "      <th>Offsides</th>\n",
       "      <th>Totalwins</th>\n",
       "      <th>Totallosses</th>\n",
       "    </tr>\n",
       "  </thead>\n",
       "  <tbody>\n",
       "    <tr>\n",
       "      <th>301</th>\n",
       "      <td>James Milner</td>\n",
       "      <td>Liverpool</td>\n",
       "      <td>Midfielder</td>\n",
       "      <td>England</td>\n",
       "      <td>34.0</td>\n",
       "      <td>539</td>\n",
       "      <td>272</td>\n",
       "      <td>133</td>\n",
       "      <td>55</td>\n",
       "      <td>0.10</td>\n",
       "      <td>...</td>\n",
       "      <td>0.0</td>\n",
       "      <td>0.0</td>\n",
       "      <td>0.0</td>\n",
       "      <td>0.0</td>\n",
       "      <td>65</td>\n",
       "      <td>3</td>\n",
       "      <td>438</td>\n",
       "      <td>45.0</td>\n",
       "      <td>1755</td>\n",
       "      <td>599</td>\n",
       "    </tr>\n",
       "    <tr>\n",
       "      <th>334</th>\n",
       "      <td>Kevin De Bruyne</td>\n",
       "      <td>Manchester-City</td>\n",
       "      <td>Midfielder</td>\n",
       "      <td>Belgium</td>\n",
       "      <td>29.0</td>\n",
       "      <td>156</td>\n",
       "      <td>109</td>\n",
       "      <td>22</td>\n",
       "      <td>37</td>\n",
       "      <td>0.24</td>\n",
       "      <td>...</td>\n",
       "      <td>0.0</td>\n",
       "      <td>0.0</td>\n",
       "      <td>0.0</td>\n",
       "      <td>0.0</td>\n",
       "      <td>14</td>\n",
       "      <td>0</td>\n",
       "      <td>122</td>\n",
       "      <td>16.0</td>\n",
       "      <td>1688</td>\n",
       "      <td>555</td>\n",
       "    </tr>\n",
       "    <tr>\n",
       "      <th>13</th>\n",
       "      <td>Mesut Özil</td>\n",
       "      <td>Arsenal</td>\n",
       "      <td>Midfielder</td>\n",
       "      <td>Germany</td>\n",
       "      <td>31.0</td>\n",
       "      <td>184</td>\n",
       "      <td>100</td>\n",
       "      <td>39</td>\n",
       "      <td>33</td>\n",
       "      <td>0.18</td>\n",
       "      <td>...</td>\n",
       "      <td>0.0</td>\n",
       "      <td>0.0</td>\n",
       "      <td>0.0</td>\n",
       "      <td>0.0</td>\n",
       "      <td>13</td>\n",
       "      <td>0</td>\n",
       "      <td>95</td>\n",
       "      <td>83.0</td>\n",
       "      <td>1005</td>\n",
       "      <td>502</td>\n",
       "    </tr>\n",
       "    <tr>\n",
       "      <th>364</th>\n",
       "      <td>Juan Mata</td>\n",
       "      <td>Manchester-United</td>\n",
       "      <td>Midfielder</td>\n",
       "      <td>Spain</td>\n",
       "      <td>32.0</td>\n",
       "      <td>262</td>\n",
       "      <td>136</td>\n",
       "      <td>61</td>\n",
       "      <td>51</td>\n",
       "      <td>0.19</td>\n",
       "      <td>...</td>\n",
       "      <td>0.0</td>\n",
       "      <td>0.0</td>\n",
       "      <td>0.0</td>\n",
       "      <td>0.0</td>\n",
       "      <td>19</td>\n",
       "      <td>1</td>\n",
       "      <td>134</td>\n",
       "      <td>102.0</td>\n",
       "      <td>1417</td>\n",
       "      <td>684</td>\n",
       "    </tr>\n",
       "    <tr>\n",
       "      <th>198</th>\n",
       "      <td>Theo Walcott</td>\n",
       "      <td>Everton</td>\n",
       "      <td>Forward</td>\n",
       "      <td>England</td>\n",
       "      <td>31.0</td>\n",
       "      <td>346</td>\n",
       "      <td>176</td>\n",
       "      <td>93</td>\n",
       "      <td>75</td>\n",
       "      <td>0.22</td>\n",
       "      <td>...</td>\n",
       "      <td>0.0</td>\n",
       "      <td>0.0</td>\n",
       "      <td>0.0</td>\n",
       "      <td>0.0</td>\n",
       "      <td>10</td>\n",
       "      <td>0</td>\n",
       "      <td>101</td>\n",
       "      <td>163.0</td>\n",
       "      <td>1035</td>\n",
       "      <td>986</td>\n",
       "    </tr>\n",
       "    <tr>\n",
       "      <th>303</th>\n",
       "      <td>Jordan Henderson</td>\n",
       "      <td>Liverpool</td>\n",
       "      <td>Midfielder</td>\n",
       "      <td>England</td>\n",
       "      <td>30.0</td>\n",
       "      <td>342</td>\n",
       "      <td>185</td>\n",
       "      <td>79</td>\n",
       "      <td>30</td>\n",
       "      <td>0.09</td>\n",
       "      <td>...</td>\n",
       "      <td>0.0</td>\n",
       "      <td>0.0</td>\n",
       "      <td>0.0</td>\n",
       "      <td>0.0</td>\n",
       "      <td>34</td>\n",
       "      <td>2</td>\n",
       "      <td>299</td>\n",
       "      <td>29.0</td>\n",
       "      <td>1755</td>\n",
       "      <td>599</td>\n",
       "    </tr>\n",
       "    <tr>\n",
       "      <th>343</th>\n",
       "      <td>Sergio Agüero</td>\n",
       "      <td>Manchester-City</td>\n",
       "      <td>Forward</td>\n",
       "      <td>Argentina</td>\n",
       "      <td>32.0</td>\n",
       "      <td>263</td>\n",
       "      <td>177</td>\n",
       "      <td>44</td>\n",
       "      <td>180</td>\n",
       "      <td>0.68</td>\n",
       "      <td>...</td>\n",
       "      <td>0.0</td>\n",
       "      <td>0.0</td>\n",
       "      <td>0.0</td>\n",
       "      <td>0.0</td>\n",
       "      <td>23</td>\n",
       "      <td>1</td>\n",
       "      <td>167</td>\n",
       "      <td>194.0</td>\n",
       "      <td>1688</td>\n",
       "      <td>555</td>\n",
       "    </tr>\n",
       "    <tr>\n",
       "      <th>185</th>\n",
       "      <td>Gylfi Sigurdsson</td>\n",
       "      <td>Everton</td>\n",
       "      <td>Midfielder</td>\n",
       "      <td>Iceland</td>\n",
       "      <td>31.0</td>\n",
       "      <td>284</td>\n",
       "      <td>114</td>\n",
       "      <td>110</td>\n",
       "      <td>61</td>\n",
       "      <td>0.21</td>\n",
       "      <td>...</td>\n",
       "      <td>0.0</td>\n",
       "      <td>0.0</td>\n",
       "      <td>0.0</td>\n",
       "      <td>0.0</td>\n",
       "      <td>20</td>\n",
       "      <td>0</td>\n",
       "      <td>193</td>\n",
       "      <td>16.0</td>\n",
       "      <td>1035</td>\n",
       "      <td>986</td>\n",
       "    </tr>\n",
       "    <tr>\n",
       "      <th>341</th>\n",
       "      <td>Raheem Sterling</td>\n",
       "      <td>Manchester-City</td>\n",
       "      <td>Forward</td>\n",
       "      <td>England</td>\n",
       "      <td>25.0</td>\n",
       "      <td>260</td>\n",
       "      <td>161</td>\n",
       "      <td>55</td>\n",
       "      <td>86</td>\n",
       "      <td>0.33</td>\n",
       "      <td>...</td>\n",
       "      <td>0.0</td>\n",
       "      <td>0.0</td>\n",
       "      <td>0.0</td>\n",
       "      <td>0.0</td>\n",
       "      <td>28</td>\n",
       "      <td>1</td>\n",
       "      <td>297</td>\n",
       "      <td>95.0</td>\n",
       "      <td>1688</td>\n",
       "      <td>555</td>\n",
       "    </tr>\n",
       "    <tr>\n",
       "      <th>344</th>\n",
       "      <td>Riyad Mahrez</td>\n",
       "      <td>Manchester-City</td>\n",
       "      <td>Forward</td>\n",
       "      <td>Algeria</td>\n",
       "      <td>29.0</td>\n",
       "      <td>199</td>\n",
       "      <td>98</td>\n",
       "      <td>58</td>\n",
       "      <td>57</td>\n",
       "      <td>0.29</td>\n",
       "      <td>...</td>\n",
       "      <td>0.0</td>\n",
       "      <td>0.0</td>\n",
       "      <td>0.0</td>\n",
       "      <td>0.0</td>\n",
       "      <td>7</td>\n",
       "      <td>0</td>\n",
       "      <td>117</td>\n",
       "      <td>45.0</td>\n",
       "      <td>1688</td>\n",
       "      <td>555</td>\n",
       "    </tr>\n",
       "  </tbody>\n",
       "</table>\n",
       "<p>10 rows × 60 columns</p>\n",
       "</div>"
      ],
      "text/plain": [
       "                 Name               Club    Position Nationality   Age  \\\n",
       "301      James Milner          Liverpool  Midfielder     England  34.0   \n",
       "334   Kevin De Bruyne    Manchester-City  Midfielder     Belgium  29.0   \n",
       "13         Mesut Özil            Arsenal  Midfielder     Germany  31.0   \n",
       "364         Juan Mata  Manchester-United  Midfielder       Spain  32.0   \n",
       "198      Theo Walcott            Everton     Forward     England  31.0   \n",
       "303  Jordan Henderson          Liverpool  Midfielder     England  30.0   \n",
       "343     Sergio Agüero    Manchester-City     Forward   Argentina  32.0   \n",
       "185  Gylfi Sigurdsson            Everton  Midfielder     Iceland  31.0   \n",
       "341   Raheem Sterling    Manchester-City     Forward     England  25.0   \n",
       "344      Riyad Mahrez    Manchester-City     Forward     Algeria  29.0   \n",
       "\n",
       "     Appearances  Wins  Losses  Goals  Goals per match  ...  Catches  \\\n",
       "301          539   272     133     55             0.10  ...      0.0   \n",
       "334          156   109      22     37             0.24  ...      0.0   \n",
       "13           184   100      39     33             0.18  ...      0.0   \n",
       "364          262   136      61     51             0.19  ...      0.0   \n",
       "198          346   176      93     75             0.22  ...      0.0   \n",
       "303          342   185      79     30             0.09  ...      0.0   \n",
       "343          263   177      44    180             0.68  ...      0.0   \n",
       "185          284   114     110     61             0.21  ...      0.0   \n",
       "341          260   161      55     86             0.33  ...      0.0   \n",
       "344          199    98      58     57             0.29  ...      0.0   \n",
       "\n",
       "     Sweeper clearances  Throw outs  Goal Kicks  Yellow cards  Red cards  \\\n",
       "301                 0.0         0.0         0.0            65          3   \n",
       "334                 0.0         0.0         0.0            14          0   \n",
       "13                  0.0         0.0         0.0            13          0   \n",
       "364                 0.0         0.0         0.0            19          1   \n",
       "198                 0.0         0.0         0.0            10          0   \n",
       "303                 0.0         0.0         0.0            34          2   \n",
       "343                 0.0         0.0         0.0            23          1   \n",
       "185                 0.0         0.0         0.0            20          0   \n",
       "341                 0.0         0.0         0.0            28          1   \n",
       "344                 0.0         0.0         0.0             7          0   \n",
       "\n",
       "     Fouls  Offsides  Totalwins  Totallosses  \n",
       "301    438      45.0       1755          599  \n",
       "334    122      16.0       1688          555  \n",
       "13      95      83.0       1005          502  \n",
       "364    134     102.0       1417          684  \n",
       "198    101     163.0       1035          986  \n",
       "303    299      29.0       1755          599  \n",
       "343    167     194.0       1688          555  \n",
       "185    193      16.0       1035          986  \n",
       "341    297      95.0       1688          555  \n",
       "344    117      45.0       1688          555  \n",
       "\n",
       "[10 rows x 60 columns]"
      ]
     },
     "execution_count": 150,
     "metadata": {},
     "output_type": "execute_result"
    }
   ],
   "source": [
    "top_10_assistants=pd.DataFrame();top_10_assistants=df.sort_values('Assists',ascending=False).head(10)\n",
    "top_10_assistants"
   ]
  },
  {
   "cell_type": "code",
   "execution_count": 152,
   "metadata": {},
   "outputs": [
    {
     "data": {
      "text/plain": [
       "Text(0.5, 1.0, 'Top 10 Assitants')"
      ]
     },
     "execution_count": 152,
     "metadata": {},
     "output_type": "execute_result"
    },
    {
     "data": {
      "image/png": "[encoded data removed]",
      "text/plain": [
       "<Figure size 1152x1152 with 1 Axes>"
      ]
     },
     "metadata": {
      "needs_background": "light"
     },
     "output_type": "display_data"
    }
   ],
   "source": [
    "plt.figure(figsize=(16,16))\n",
    "sns.barplot(y='Name',x='Assists',data=top_10_assistants)\n",
    "plt.title('Top 10 Assitants')"
   ]
  },
  {
   "cell_type": "code",
   "execution_count": 165,
   "metadata": {},
   "outputs": [
    {
     "data": {
      "text/html": [
       "<div>\n",
       "<style scoped>\n",
       "    .dataframe tbody tr th:only-of-type {\n",
       "        vertical-align: middle;\n",
       "    }\n",
       "\n",
       "    .dataframe tbody tr th {\n",
       "        vertical-align: top;\n",
       "    }\n",
       "\n",
       "    .dataframe thead th {\n",
       "        text-align: right;\n",
       "    }\n",
       "</style>\n",
       "<table border=\"1\" class=\"dataframe\">\n",
       "  <thead>\n",
       "    <tr style=\"text-align: right;\">\n",
       "      <th></th>\n",
       "      <th>Name</th>\n",
       "      <th>Club</th>\n",
       "      <th>Position</th>\n",
       "      <th>Nationality</th>\n",
       "      <th>Age</th>\n",
       "      <th>Appearances</th>\n",
       "      <th>Wins</th>\n",
       "      <th>Losses</th>\n",
       "      <th>Goals</th>\n",
       "      <th>Goals per match</th>\n",
       "      <th>...</th>\n",
       "      <th>Catches</th>\n",
       "      <th>Sweeper clearances</th>\n",
       "      <th>Throw outs</th>\n",
       "      <th>Goal Kicks</th>\n",
       "      <th>Yellow cards</th>\n",
       "      <th>Red cards</th>\n",
       "      <th>Fouls</th>\n",
       "      <th>Offsides</th>\n",
       "      <th>Totalwins</th>\n",
       "      <th>Totallosses</th>\n",
       "    </tr>\n",
       "  </thead>\n",
       "  <tbody>\n",
       "    <tr>\n",
       "      <th>118</th>\n",
       "      <td>Marcos Alonso</td>\n",
       "      <td>Chelsea</td>\n",
       "      <td>Defender</td>\n",
       "      <td>Spain</td>\n",
       "      <td>29.0</td>\n",
       "      <td>140</td>\n",
       "      <td>87</td>\n",
       "      <td>32</td>\n",
       "      <td>20</td>\n",
       "      <td>0.0</td>\n",
       "      <td>...</td>\n",
       "      <td>0.0</td>\n",
       "      <td>0.0</td>\n",
       "      <td>0.0</td>\n",
       "      <td>0.0</td>\n",
       "      <td>25</td>\n",
       "      <td>1</td>\n",
       "      <td>125</td>\n",
       "      <td>16.0</td>\n",
       "      <td>1023</td>\n",
       "      <td>535</td>\n",
       "    </tr>\n",
       "    <tr>\n",
       "      <th>151</th>\n",
       "      <td>Gary Cahill</td>\n",
       "      <td>Crystal-Palace</td>\n",
       "      <td>Defender</td>\n",
       "      <td>England</td>\n",
       "      <td>34.0</td>\n",
       "      <td>374</td>\n",
       "      <td>166</td>\n",
       "      <td>126</td>\n",
       "      <td>27</td>\n",
       "      <td>0.0</td>\n",
       "      <td>...</td>\n",
       "      <td>0.0</td>\n",
       "      <td>0.0</td>\n",
       "      <td>0.0</td>\n",
       "      <td>0.0</td>\n",
       "      <td>38</td>\n",
       "      <td>3</td>\n",
       "      <td>266</td>\n",
       "      <td>3.0</td>\n",
       "      <td>1312</td>\n",
       "      <td>1640</td>\n",
       "    </tr>\n",
       "    <tr>\n",
       "      <th>10</th>\n",
       "      <td>David Luiz</td>\n",
       "      <td>Arsenal</td>\n",
       "      <td>Defender</td>\n",
       "      <td>Brazil</td>\n",
       "      <td>33.0</td>\n",
       "      <td>194</td>\n",
       "      <td>113</td>\n",
       "      <td>38</td>\n",
       "      <td>13</td>\n",
       "      <td>0.0</td>\n",
       "      <td>...</td>\n",
       "      <td>0.0</td>\n",
       "      <td>0.0</td>\n",
       "      <td>0.0</td>\n",
       "      <td>0.0</td>\n",
       "      <td>40</td>\n",
       "      <td>3</td>\n",
       "      <td>212</td>\n",
       "      <td>5.0</td>\n",
       "      <td>1005</td>\n",
       "      <td>502</td>\n",
       "    </tr>\n",
       "    <tr>\n",
       "      <th>99</th>\n",
       "      <td>Phil Bardsley</td>\n",
       "      <td>Burnley</td>\n",
       "      <td>Defender</td>\n",
       "      <td>Scotland</td>\n",
       "      <td>35.0</td>\n",
       "      <td>300</td>\n",
       "      <td>100</td>\n",
       "      <td>130</td>\n",
       "      <td>7</td>\n",
       "      <td>0.0</td>\n",
       "      <td>...</td>\n",
       "      <td>0.0</td>\n",
       "      <td>0.0</td>\n",
       "      <td>0.0</td>\n",
       "      <td>0.0</td>\n",
       "      <td>78</td>\n",
       "      <td>2</td>\n",
       "      <td>327</td>\n",
       "      <td>5.0</td>\n",
       "      <td>765</td>\n",
       "      <td>1068</td>\n",
       "    </tr>\n",
       "    <tr>\n",
       "      <th>323</th>\n",
       "      <td>Kyle Walker</td>\n",
       "      <td>Manchester-City</td>\n",
       "      <td>Defender</td>\n",
       "      <td>England</td>\n",
       "      <td>30.0</td>\n",
       "      <td>293</td>\n",
       "      <td>183</td>\n",
       "      <td>50</td>\n",
       "      <td>7</td>\n",
       "      <td>0.0</td>\n",
       "      <td>...</td>\n",
       "      <td>0.0</td>\n",
       "      <td>0.0</td>\n",
       "      <td>0.0</td>\n",
       "      <td>0.0</td>\n",
       "      <td>45</td>\n",
       "      <td>1</td>\n",
       "      <td>239</td>\n",
       "      <td>22.0</td>\n",
       "      <td>1688</td>\n",
       "      <td>555</td>\n",
       "    </tr>\n",
       "    <tr>\n",
       "      <th>147</th>\n",
       "      <td>Patrick van Aanholt</td>\n",
       "      <td>Crystal-Palace</td>\n",
       "      <td>Defender</td>\n",
       "      <td>Netherlands</td>\n",
       "      <td>30.0</td>\n",
       "      <td>191</td>\n",
       "      <td>57</td>\n",
       "      <td>92</td>\n",
       "      <td>20</td>\n",
       "      <td>0.0</td>\n",
       "      <td>...</td>\n",
       "      <td>0.0</td>\n",
       "      <td>0.0</td>\n",
       "      <td>0.0</td>\n",
       "      <td>0.0</td>\n",
       "      <td>19</td>\n",
       "      <td>0</td>\n",
       "      <td>94</td>\n",
       "      <td>27.0</td>\n",
       "      <td>1312</td>\n",
       "      <td>1640</td>\n",
       "    </tr>\n",
       "    <tr>\n",
       "      <th>180</th>\n",
       "      <td>Séamus Coleman</td>\n",
       "      <td>Everton</td>\n",
       "      <td>Defender</td>\n",
       "      <td>Ireland</td>\n",
       "      <td>31.0</td>\n",
       "      <td>276</td>\n",
       "      <td>114</td>\n",
       "      <td>79</td>\n",
       "      <td>20</td>\n",
       "      <td>0.0</td>\n",
       "      <td>...</td>\n",
       "      <td>0.0</td>\n",
       "      <td>0.0</td>\n",
       "      <td>0.0</td>\n",
       "      <td>0.0</td>\n",
       "      <td>29</td>\n",
       "      <td>2</td>\n",
       "      <td>194</td>\n",
       "      <td>29.0</td>\n",
       "      <td>1035</td>\n",
       "      <td>986</td>\n",
       "    </tr>\n",
       "    <tr>\n",
       "      <th>503</th>\n",
       "      <td>Branislav Ivanovic</td>\n",
       "      <td>West-Bromwich-Albion</td>\n",
       "      <td>Defender</td>\n",
       "      <td>Serbia</td>\n",
       "      <td>36.0</td>\n",
       "      <td>261</td>\n",
       "      <td>152</td>\n",
       "      <td>50</td>\n",
       "      <td>22</td>\n",
       "      <td>0.0</td>\n",
       "      <td>...</td>\n",
       "      <td>0.0</td>\n",
       "      <td>0.0</td>\n",
       "      <td>0.0</td>\n",
       "      <td>0.0</td>\n",
       "      <td>55</td>\n",
       "      <td>2</td>\n",
       "      <td>293</td>\n",
       "      <td>18.0</td>\n",
       "      <td>405</td>\n",
       "      <td>437</td>\n",
       "    </tr>\n",
       "    <tr>\n",
       "      <th>418</th>\n",
       "      <td>Phil Jagielka</td>\n",
       "      <td>Sheffield-United</td>\n",
       "      <td>Defender</td>\n",
       "      <td>England</td>\n",
       "      <td>38.0</td>\n",
       "      <td>366</td>\n",
       "      <td>147</td>\n",
       "      <td>111</td>\n",
       "      <td>18</td>\n",
       "      <td>0.0</td>\n",
       "      <td>...</td>\n",
       "      <td>0.0</td>\n",
       "      <td>0.0</td>\n",
       "      <td>0.0</td>\n",
       "      <td>0.0</td>\n",
       "      <td>23</td>\n",
       "      <td>2</td>\n",
       "      <td>159</td>\n",
       "      <td>3.0</td>\n",
       "      <td>401</td>\n",
       "      <td>430</td>\n",
       "    </tr>\n",
       "    <tr>\n",
       "      <th>441</th>\n",
       "      <td>Ryan Bertrand</td>\n",
       "      <td>Southampton</td>\n",
       "      <td>Defender</td>\n",
       "      <td>England</td>\n",
       "      <td>31.0</td>\n",
       "      <td>231</td>\n",
       "      <td>83</td>\n",
       "      <td>95</td>\n",
       "      <td>7</td>\n",
       "      <td>0.0</td>\n",
       "      <td>...</td>\n",
       "      <td>0.0</td>\n",
       "      <td>0.0</td>\n",
       "      <td>0.0</td>\n",
       "      <td>0.0</td>\n",
       "      <td>31</td>\n",
       "      <td>2</td>\n",
       "      <td>211</td>\n",
       "      <td>10.0</td>\n",
       "      <td>652</td>\n",
       "      <td>843</td>\n",
       "    </tr>\n",
       "  </tbody>\n",
       "</table>\n",
       "<p>10 rows × 60 columns</p>\n",
       "</div>"
      ],
      "text/plain": [
       "                    Name                  Club  Position  Nationality   Age  \\\n",
       "118        Marcos Alonso               Chelsea  Defender        Spain  29.0   \n",
       "151          Gary Cahill        Crystal-Palace  Defender      England  34.0   \n",
       "10            David Luiz               Arsenal  Defender       Brazil  33.0   \n",
       "99         Phil Bardsley               Burnley  Defender     Scotland  35.0   \n",
       "323          Kyle Walker       Manchester-City  Defender      England  30.0   \n",
       "147  Patrick van Aanholt        Crystal-Palace  Defender  Netherlands  30.0   \n",
       "180       Séamus Coleman               Everton  Defender      Ireland  31.0   \n",
       "503   Branislav Ivanovic  West-Bromwich-Albion  Defender       Serbia  36.0   \n",
       "418        Phil Jagielka      Sheffield-United  Defender      England  38.0   \n",
       "441        Ryan Bertrand           Southampton  Defender      England  31.0   \n",
       "\n",
       "     Appearances  Wins  Losses  Goals  Goals per match  ...  Catches  \\\n",
       "118          140    87      32     20              0.0  ...      0.0   \n",
       "151          374   166     126     27              0.0  ...      0.0   \n",
       "10           194   113      38     13              0.0  ...      0.0   \n",
       "99           300   100     130      7              0.0  ...      0.0   \n",
       "323          293   183      50      7              0.0  ...      0.0   \n",
       "147          191    57      92     20              0.0  ...      0.0   \n",
       "180          276   114      79     20              0.0  ...      0.0   \n",
       "503          261   152      50     22              0.0  ...      0.0   \n",
       "418          366   147     111     18              0.0  ...      0.0   \n",
       "441          231    83      95      7              0.0  ...      0.0   \n",
       "\n",
       "     Sweeper clearances  Throw outs  Goal Kicks  Yellow cards  Red cards  \\\n",
       "118                 0.0         0.0         0.0            25          1   \n",
       "151                 0.0         0.0         0.0            38          3   \n",
       "10                  0.0         0.0         0.0            40          3   \n",
       "99                  0.0         0.0         0.0            78          2   \n",
       "323                 0.0         0.0         0.0            45          1   \n",
       "147                 0.0         0.0         0.0            19          0   \n",
       "180                 0.0         0.0         0.0            29          2   \n",
       "503                 0.0         0.0         0.0            55          2   \n",
       "418                 0.0         0.0         0.0            23          2   \n",
       "441                 0.0         0.0         0.0            31          2   \n",
       "\n",
       "     Fouls  Offsides  Totalwins  Totallosses  \n",
       "118    125      16.0       1023          535  \n",
       "151    266       3.0       1312         1640  \n",
       "10     212       5.0       1005          502  \n",
       "99     327       5.0        765         1068  \n",
       "323    239      22.0       1688          555  \n",
       "147     94      27.0       1312         1640  \n",
       "180    194      29.0       1035          986  \n",
       "503    293      18.0        405          437  \n",
       "418    159       3.0        401          430  \n",
       "441    211      10.0        652          843  \n",
       "\n",
       "[10 rows x 60 columns]"
      ]
     },
     "execution_count": 165,
     "metadata": {},
     "output_type": "execute_result"
    }
   ],
   "source": [
    "top_10_def=pd.DataFrame();top_10_def=df[df['Position']=='Defender'].sort_values('Blocked shots',ascending=False).head(10)\n",
    "top_10_def"
   ]
  },
  {
   "cell_type": "code",
   "execution_count": 166,
   "metadata": {},
   "outputs": [
    {
     "data": {
      "text/plain": [
       "Text(0.5, 1.0, 'Top 10 Defenders')"
      ]
     },
     "execution_count": 166,
     "metadata": {},
     "output_type": "execute_result"
    },
    {
     "data": {
      "image/png": "[encoded data removed]",
      "text/plain": [
       "<Figure size 1152x1152 with 1 Axes>"
      ]
     },
     "metadata": {
      "needs_background": "light"
     },
     "output_type": "display_data"
    }
   ],
   "source": [
    "plt.figure(figsize=(16,16))\n",
    "sns.barplot(y='Name',x='Blocked shots',data=top_10_def)\n",
    "plt.title('Top 10 Defenders')"
   ]
  },
  {
   "cell_type": "code",
   "execution_count": 180,
   "metadata": {},
   "outputs": [
    {
     "data": {
      "text/html": [
       "<div>\n",
       "<style scoped>\n",
       "    .dataframe tbody tr th:only-of-type {\n",
       "        vertical-align: middle;\n",
       "    }\n",
       "\n",
       "    .dataframe tbody tr th {\n",
       "        vertical-align: top;\n",
       "    }\n",
       "\n",
       "    .dataframe thead th {\n",
       "        text-align: right;\n",
       "    }\n",
       "</style>\n",
       "<table border=\"1\" class=\"dataframe\">\n",
       "  <thead>\n",
       "    <tr style=\"text-align: right;\">\n",
       "      <th></th>\n",
       "      <th>Champion</th>\n",
       "      <th>Win Matches</th>\n",
       "    </tr>\n",
       "  </thead>\n",
       "  <tbody>\n",
       "    <tr>\n",
       "      <th>285</th>\n",
       "      <td>Liverpool</td>\n",
       "      <td>1755</td>\n",
       "    </tr>\n",
       "  </tbody>\n",
       "</table>\n",
       "</div>"
      ],
      "text/plain": [
       "      Champion  Win Matches\n",
       "285  Liverpool         1755"
      ]
     },
     "execution_count": 180,
     "metadata": {},
     "output_type": "execute_result"
    }
   ],
   "source": [
    "#Finally Top Club In Primer League is : \"Liverpool\"\n",
    "Top_Club=pd.DataFrame()\n",
    "Top_Club['Champion']=df[df['Club']=='Liverpool']['Club']\n",
    "Top_Club['Win Matches']=df[df['Club']=='Liverpool']['Totalwins']\n",
    "Top_Club.drop_duplicates(inplace=True)\n",
    "Top_Club"
   ]
  }
 ],
 "metadata": {
  "kernelspec": {
   "display_name": "Python 3.10.5 64-bit",
   "language": "python",
   "name": "python3"
  },
  "language_info": {
   "codemirror_mode": {
    "name": "ipython",
    "version": 3
   },
   "file_extension": ".py",
   "mimetype": "text/x-python",
   "name": "python",
   "nbconvert_exporter": "python",
   "pygments_lexer": "ipython3",
   "version": "3.10.5"
  },
  "orig_nbformat": 4,
  "vscode": {
   "interpreter": {
    "hash": "d52e466cda7d84e374c198ef38904e0acd3c372c025224e78ff0d3f2eb7b76d4"
   }
  }
 },
 "nbformat": 4,
 "nbformat_minor": 2
}
